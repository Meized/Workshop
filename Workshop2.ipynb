{
 "cells": [
  {
   "cell_type": "markdown",
   "metadata": {},
   "source": [
    "# Мастерская 2 — Маркетинг интернет-магазина"
   ]
  },
  {
   "cell_type": "markdown",
   "metadata": {},
   "source": [
    "Интернет-магазин собирает историю покупателей, проводит рассылки предложений и \n",
    "планирует будущие продажи. Для оптимизации процессов надо выделить пользователей \n",
    "которые готовы совершить покупку в ближайшее врем\n",
    "\n",
    "Нам предоставлены данные по истории покупателей. У нас есть история того как тот или иной покупатель реагировал на коммуникацию, которая проводилась. Под коммуникацией мы имеем ввиду, например, промо-предложение, направленное в смс / push сообщении. По каждому товару проставлена категория, которая помогает определить насколько покупатель “латентен” (предпочтителен) к этой группе товаров."
   ]
  },
  {
   "cell_type": "markdown",
   "metadata": {},
   "source": [
    "**Цель** -  создать модель прогнозирования покупки каждым покупателем в ближайшие 90 дней. Это нужно для улучшения работы и повышения эффективности марктетинговых компаний."
   ]
  },
  {
   "cell_type": "markdown",
   "metadata": {},
   "source": [
    "### Описание данных"
   ]
  },
  {
   "cell_type": "markdown",
   "metadata": {},
   "source": [
    "* ```apparel-purchases```\n",
    "\n",
    "Данные о покупках клиентов по дням и по товарам. В каждой записи покупка\n",
    "определенного товара, его цена, количество штук.\n",
    "\n",
    "В таблице есть списки идентификаторов, к каким категориям относится товар. Часто\n",
    "это вложенные категории (например автотовары-аксессуары-освежители), но также может\n",
    "включать в начале списка маркер распродажи или маркер женщинам/мужчинам. Нумерация категорий сквозная для всех уровней, то есть 44 на второй позиции списка или на третьей – это одна и та же категория. Иногда дерево категорий обновляется, поэтому могут меняться вложенности, например ['4', '28', '44', '1594'] или ['4', '44', '1594']. **Необходимо обработать такие случаи**.\n",
    "\n",
    "```client_id``` - идентификатор клиента \n",
    "\n",
    "```quantity``` - количество единиц товара\n",
    "\n",
    "```price``` - цена товара\n",
    "\n",
    "```category_ids``` - идентификаторы категорий\n",
    "\n",
    "```date``` - дата покупки\n",
    "\n",
    "```message_id``` - идентификатор сообщения из рассылки"
   ]
  },
  {
   "cell_type": "markdown",
   "metadata": {},
   "source": [
    "* ```apparel-messages```\n",
    "\n",
    "Рассылки, которые были отправлены клиентам из таблицы покупок.\n",
    "\n",
    "```bulk_campaign_id``` -  идентификатор рассылки\n",
    "\n",
    "```client_id``` - идентификатор клиента\n",
    "\n",
    "```message_id```  - идентификатор сообщения\n",
    "\n",
    "```event``` - действие с сообщением (отправлено, открыто, покупка…)\n",
    "\n",
    "```channel``` - канал рассылки\n",
    "\n",
    "```date``` - дата действия\n",
    "\n",
    "```created_at``` - дата-время полностью"
   ]
  },
  {
   "cell_type": "markdown",
   "metadata": {},
   "source": [
    "* target\n",
    "\n",
    "```client_id``` - идентификатор клиента\n",
    "\n",
    "```target``` - клиент совершил покупку в целевом периоде"
   ]
  },
  {
   "cell_type": "markdown",
   "metadata": {},
   "source": [
    "* full_campaign_daily_event\n",
    "\n",
    "Агрегация общей базы рассылок по дням и типам событий\n",
    "\n",
    "```date``` - дата\n",
    "\n",
    "```bulk_campaign_id``` - идентификатор рассылки\n",
    "\n",
    "```count_event*``` - общее количество каждого события event\n",
    "\n",
    "```nunique_event*``` - количество уникальных client_id в каждом событии\n",
    "\n",
    "*в именах колонок найдете все типы событий event"
   ]
  },
  {
   "cell_type": "markdown",
   "metadata": {},
   "source": [
    "* full_campaign_daily_event_channel\n",
    "\n",
    "Агрегация по дням с учетом событий и каналов рассылки\n",
    "\n",
    "```date``` - дата\n",
    "\n",
    "```bulk_campaign_id``` - идентификатор рассылки\n",
    "\n",
    "```count_event*_channel``` - общее количество каждого события по каналам\n",
    "\n",
    "```nunique_event*_channel``` - количество уникальных client_id по событиям и каналам\n",
    "\n",
    "*в именах колонок есть все типы событий event и каналов рассылки channel"
   ]
  },
  {
   "cell_type": "code",
   "execution_count": 2,
   "metadata": {},
   "outputs": [],
   "source": [
    "import pandas as pd\n",
    "pd.set_option('display.float_format', '{:.2f}'.format)\n",
    "import numpy as np\n",
    "import seaborn as sns\n",
    "import matplotlib.pyplot as plt\n",
    "import scipy.stats as st\n",
    "import shap\n",
    "from scipy.stats import spearmanr, shapiro, stats\n",
    "from sklearn.pipeline import Pipeline\n",
    "from sklearn.model_selection import GridSearchCV, RandomizedSearchCV\n",
    "from sklearn.tree import DecisionTreeClassifier, DecisionTreeRegressor\n",
    "from sklearn.ensemble import RandomForestClassifier\n",
    "from sklearn.neighbors import KNeighborsClassifier\n",
    "from sklearn.svm import SVC\n",
    "from catboost import CatBoostClassifier, Pool\n",
    "from sklearn.model_selection import train_test_split\n",
    "from sklearn.model_selection import cross_val_score\n",
    "from sklearn.linear_model import LogisticRegression\n",
    "from xgboost import XGBClassifier\n",
    "from lightgbm import LGBMClassifier\n",
    "import phik\n",
    "from sklearn.metrics import precision_score, recall_score, roc_auc_score, roc_curve"
   ]
  },
  {
   "cell_type": "markdown",
   "metadata": {},
   "source": [
    "# Загрузка данных"
   ]
  },
  {
   "cell_type": "code",
   "execution_count": 3,
   "metadata": {},
   "outputs": [],
   "source": [
    "df_messages = pd.read_csv(r\"C:\\Users\\Александр\\Desktop\\Worksop2\\filtered_data\\apparel-messages.csv\")\n",
    "df_purchases = pd.read_csv(r\"C:\\Users\\Александр\\Desktop\\Worksop2\\filtered_data\\apparel-purchases.csv\")\n",
    "df_target = pd.read_csv(r\"C:\\Users\\Александр\\Desktop\\Worksop2\\filtered_data\\apparel-target_binary.csv\")\n",
    "df_event = pd.read_csv(r\"C:\\Users\\Александр\\Desktop\\Worksop2\\filtered_data\\full_campaign_daily_event.csv\")\n",
    "df_event_channel = pd.read_csv(r\"C:\\Users\\Александр\\Desktop\\Worksop2\\filtered_data\\full_campaign_daily_event_channel.csv\")"
   ]
  },
  {
   "cell_type": "code",
   "execution_count": 4,
   "metadata": {},
   "outputs": [
    {
     "data": {
      "text/plain": [
       "(49849, 2)"
      ]
     },
     "execution_count": 4,
     "metadata": {},
     "output_type": "execute_result"
    }
   ],
   "source": [
    "df_target.shape"
   ]
  },
  {
   "cell_type": "code",
   "execution_count": 5,
   "metadata": {},
   "outputs": [
    {
     "data": {
      "text/plain": [
       "(202208, 6)"
      ]
     },
     "execution_count": 5,
     "metadata": {},
     "output_type": "execute_result"
    }
   ],
   "source": [
    "df_purchases.shape"
   ]
  },
  {
   "cell_type": "code",
   "execution_count": 70,
   "metadata": {},
   "outputs": [
    {
     "data": {
      "text/plain": [
       "(12656659, 7)"
      ]
     },
     "execution_count": 70,
     "metadata": {},
     "output_type": "execute_result"
    }
   ],
   "source": [
    "df_messages.shape"
   ]
  },
  {
   "cell_type": "markdown",
   "metadata": {},
   "source": [
    "# Предобработка данных"
   ]
  },
  {
   "cell_type": "code",
   "execution_count": 6,
   "metadata": {},
   "outputs": [
    {
     "name": "stdout",
     "output_type": "stream",
     "text": [
      "<class 'pandas.core.frame.DataFrame'>\n",
      "RangeIndex: 12739798 entries, 0 to 12739797\n",
      "Data columns (total 7 columns):\n",
      " #   Column            Dtype \n",
      "---  ------            ----- \n",
      " 0   bulk_campaign_id  int64 \n",
      " 1   client_id         int64 \n",
      " 2   message_id        object\n",
      " 3   event             object\n",
      " 4   channel           object\n",
      " 5   date              object\n",
      " 6   created_at        object\n",
      "dtypes: int64(2), object(5)\n",
      "memory usage: 680.4+ MB\n"
     ]
    }
   ],
   "source": [
    "df_messages.info()"
   ]
  },
  {
   "cell_type": "markdown",
   "metadata": {},
   "source": [
    "**В данных `df_messages` есть несоответствие типов данных**"
   ]
  },
  {
   "cell_type": "code",
   "execution_count": 7,
   "metadata": {},
   "outputs": [
    {
     "data": {
      "text/html": [
       "<div>\n",
       "<style scoped>\n",
       "    .dataframe tbody tr th:only-of-type {\n",
       "        vertical-align: middle;\n",
       "    }\n",
       "\n",
       "    .dataframe tbody tr th {\n",
       "        vertical-align: top;\n",
       "    }\n",
       "\n",
       "    .dataframe thead th {\n",
       "        text-align: right;\n",
       "    }\n",
       "</style>\n",
       "<table border=\"1\" class=\"dataframe\">\n",
       "  <thead>\n",
       "    <tr style=\"text-align: right;\">\n",
       "      <th></th>\n",
       "      <th>bulk_campaign_id</th>\n",
       "      <th>client_id</th>\n",
       "      <th>message_id</th>\n",
       "      <th>event</th>\n",
       "      <th>channel</th>\n",
       "      <th>date</th>\n",
       "      <th>created_at</th>\n",
       "    </tr>\n",
       "  </thead>\n",
       "  <tbody>\n",
       "    <tr>\n",
       "      <th>0</th>\n",
       "      <td>4439</td>\n",
       "      <td>1515915625626736623</td>\n",
       "      <td>1515915625626736623-4439-6283415ac07ea</td>\n",
       "      <td>open</td>\n",
       "      <td>email</td>\n",
       "      <td>2022-05-19</td>\n",
       "      <td>2022-05-19 00:14:20</td>\n",
       "    </tr>\n",
       "    <tr>\n",
       "      <th>1</th>\n",
       "      <td>4439</td>\n",
       "      <td>1515915625490086521</td>\n",
       "      <td>1515915625490086521-4439-62834150016dd</td>\n",
       "      <td>open</td>\n",
       "      <td>email</td>\n",
       "      <td>2022-05-19</td>\n",
       "      <td>2022-05-19 00:39:34</td>\n",
       "    </tr>\n",
       "    <tr>\n",
       "      <th>2</th>\n",
       "      <td>4439</td>\n",
       "      <td>1515915625553578558</td>\n",
       "      <td>1515915625553578558-4439-6283415b36b4f</td>\n",
       "      <td>open</td>\n",
       "      <td>email</td>\n",
       "      <td>2022-05-19</td>\n",
       "      <td>2022-05-19 00:51:49</td>\n",
       "    </tr>\n",
       "    <tr>\n",
       "      <th>3</th>\n",
       "      <td>4439</td>\n",
       "      <td>1515915625553578558</td>\n",
       "      <td>1515915625553578558-4439-6283415b36b4f</td>\n",
       "      <td>click</td>\n",
       "      <td>email</td>\n",
       "      <td>2022-05-19</td>\n",
       "      <td>2022-05-19 00:52:20</td>\n",
       "    </tr>\n",
       "    <tr>\n",
       "      <th>4</th>\n",
       "      <td>4439</td>\n",
       "      <td>1515915625471518311</td>\n",
       "      <td>1515915625471518311-4439-628341570c133</td>\n",
       "      <td>open</td>\n",
       "      <td>email</td>\n",
       "      <td>2022-05-19</td>\n",
       "      <td>2022-05-19 00:56:52</td>\n",
       "    </tr>\n",
       "  </tbody>\n",
       "</table>\n",
       "</div>"
      ],
      "text/plain": [
       "   bulk_campaign_id            client_id  \\\n",
       "0              4439  1515915625626736623   \n",
       "1              4439  1515915625490086521   \n",
       "2              4439  1515915625553578558   \n",
       "3              4439  1515915625553578558   \n",
       "4              4439  1515915625471518311   \n",
       "\n",
       "                               message_id  event channel        date  \\\n",
       "0  1515915625626736623-4439-6283415ac07ea   open   email  2022-05-19   \n",
       "1  1515915625490086521-4439-62834150016dd   open   email  2022-05-19   \n",
       "2  1515915625553578558-4439-6283415b36b4f   open   email  2022-05-19   \n",
       "3  1515915625553578558-4439-6283415b36b4f  click   email  2022-05-19   \n",
       "4  1515915625471518311-4439-628341570c133   open   email  2022-05-19   \n",
       "\n",
       "            created_at  \n",
       "0  2022-05-19 00:14:20  \n",
       "1  2022-05-19 00:39:34  \n",
       "2  2022-05-19 00:51:49  \n",
       "3  2022-05-19 00:52:20  \n",
       "4  2022-05-19 00:56:52  "
      ]
     },
     "execution_count": 7,
     "metadata": {},
     "output_type": "execute_result"
    }
   ],
   "source": [
    "df_messages.head()"
   ]
  },
  {
   "cell_type": "code",
   "execution_count": 8,
   "metadata": {},
   "outputs": [],
   "source": [
    "df_messages['date'] = pd.to_datetime(df_messages['date'], format='%Y-%m-%d')"
   ]
  },
  {
   "cell_type": "markdown",
   "metadata": {},
   "source": [
    "**Изменим тип данных пока только в столбце `date`, далее в ходе выполнения посмотрим какие данные нам пригодятся**"
   ]
  },
  {
   "cell_type": "code",
   "execution_count": 9,
   "metadata": {},
   "outputs": [
    {
     "name": "stdout",
     "output_type": "stream",
     "text": [
      "<class 'pandas.core.frame.DataFrame'>\n",
      "RangeIndex: 12739798 entries, 0 to 12739797\n",
      "Data columns (total 7 columns):\n",
      " #   Column            Dtype         \n",
      "---  ------            -----         \n",
      " 0   bulk_campaign_id  int64         \n",
      " 1   client_id         int64         \n",
      " 2   message_id        object        \n",
      " 3   event             object        \n",
      " 4   channel           object        \n",
      " 5   date              datetime64[ns]\n",
      " 6   created_at        object        \n",
      "dtypes: datetime64[ns](1), int64(2), object(4)\n",
      "memory usage: 680.4+ MB\n"
     ]
    }
   ],
   "source": [
    "df_messages.info()"
   ]
  },
  {
   "cell_type": "code",
   "execution_count": 10,
   "metadata": {},
   "outputs": [
    {
     "data": {
      "text/plain": [
       "bulk_campaign_id    0\n",
       "client_id           0\n",
       "message_id          0\n",
       "event               0\n",
       "channel             0\n",
       "date                0\n",
       "created_at          0\n",
       "dtype: int64"
      ]
     },
     "execution_count": 10,
     "metadata": {},
     "output_type": "execute_result"
    }
   ],
   "source": [
    "df_messages.isna().sum()"
   ]
  },
  {
   "cell_type": "markdown",
   "metadata": {},
   "source": [
    "**Не смотря на обилие данных, пропусков в данных нет**"
   ]
  },
  {
   "cell_type": "code",
   "execution_count": 11,
   "metadata": {},
   "outputs": [
    {
     "data": {
      "text/plain": [
       "48610"
      ]
     },
     "execution_count": 11,
     "metadata": {},
     "output_type": "execute_result"
    }
   ],
   "source": [
    "df_messages.duplicated().sum()"
   ]
  },
  {
   "cell_type": "markdown",
   "metadata": {},
   "source": [
    "**Дубликатов 48 тысяч, но их можно удалить так как общий объем данных в `df_messages` больше миллиона**"
   ]
  },
  {
   "cell_type": "code",
   "execution_count": 12,
   "metadata": {},
   "outputs": [],
   "source": [
    "df_messages = df_messages.drop_duplicates()"
   ]
  },
  {
   "cell_type": "code",
   "execution_count": 13,
   "metadata": {},
   "outputs": [
    {
     "data": {
      "text/plain": [
       "0"
      ]
     },
     "execution_count": 13,
     "metadata": {},
     "output_type": "execute_result"
    }
   ],
   "source": [
    "df_messages.duplicated().sum()"
   ]
  },
  {
   "cell_type": "markdown",
   "metadata": {},
   "source": [
    "**Дубликаты устранены**"
   ]
  },
  {
   "cell_type": "code",
   "execution_count": 14,
   "metadata": {},
   "outputs": [
    {
     "data": {
      "image/png": "[encoded data removed]",
      "text/plain": [
       "<Figure size 1000x600 with 1 Axes>"
      ]
     },
     "metadata": {},
     "output_type": "display_data"
    }
   ],
   "source": [
    "funnel = df_messages.groupby('event')['client_id'].nunique().reset_index()\n",
    "funnel = funnel.rename(columns={'client_id': 'unique_clients'})\n",
    "\n",
    "# Визуализация воронки\n",
    "plt.figure(figsize=(10, 6))\n",
    "plt.barh(funnel['event'], funnel['unique_clients'].sort_values(), color='skyblue')\n",
    "plt.xlabel('Количество уникальных пользователей')\n",
    "plt.title('Воронка продаж')\n",
    "plt.show()"
   ]
  },
  {
   "cell_type": "markdown",
   "metadata": {},
   "source": [
    "**Исходя из воронки продаж видно, что не всех пользователей устраивает рассылка. Многие пользователи отписываются, пишут жалобы, сообщение уходит в спам, ну или вообще по техническим причинам не доходит**"
   ]
  },
  {
   "cell_type": "code",
   "execution_count": 15,
   "metadata": {},
   "outputs": [],
   "source": [
    "df_messages = df_messages.loc[df_messages['event']!='unsubscribe']\n",
    "df_messages = df_messages.loc[df_messages['event']!='soft_bounce']\n",
    "df_messages = df_messages.loc[df_messages['event']!='hbq_spam']\n",
    "df_messages = df_messages.loc[df_messages['event']!='hard_bounce']\n",
    "df_messages = df_messages.loc[df_messages['event']!='complain']\n",
    "df_messages = df_messages.loc[df_messages['event']!='close']"
   ]
  },
  {
   "cell_type": "markdown",
   "metadata": {},
   "source": [
    "**Удалим строки с неустраивающими нас действиями, эти пользватели явно не купят товар в ближайшие 90 дней**"
   ]
  },
  {
   "cell_type": "code",
   "execution_count": 16,
   "metadata": {},
   "outputs": [
    {
     "data": {
      "image/png": "[encoded data removed]",
      "text/plain": [
       "<Figure size 1000x600 with 1 Axes>"
      ]
     },
     "metadata": {},
     "output_type": "display_data"
    }
   ],
   "source": [
    "funnel = df_messages.groupby('event')['client_id'].nunique().reset_index()\n",
    "funnel = funnel.rename(columns={'client_id': 'unique_clients'})\n",
    "\n",
    "# Визуализация воронки\n",
    "plt.figure(figsize=(10, 6))\n",
    "plt.barh(funnel['event'], funnel['unique_clients'].sort_values(), color='skyblue')\n",
    "plt.xlabel('Количество уникальных пользователей')\n",
    "plt.title('Воронка продаж')\n",
    "plt.show()"
   ]
  },
  {
   "cell_type": "markdown",
   "metadata": {},
   "source": [
    "**Данные отфильтрованы, но в воронке продаж есть несоответствие, так как действия располлжены в неверном порядке, оставим пока так как есть из-за того, что это основной датафрейм, в дальнейшем по необходимости преобразуем**"
   ]
  },
  {
   "cell_type": "code",
   "execution_count": 18,
   "metadata": {},
   "outputs": [
    {
     "name": "stdout",
     "output_type": "stream",
     "text": [
      "<class 'pandas.core.frame.DataFrame'>\n",
      "RangeIndex: 202208 entries, 0 to 202207\n",
      "Data columns (total 6 columns):\n",
      " #   Column        Non-Null Count   Dtype  \n",
      "---  ------        --------------   -----  \n",
      " 0   client_id     202208 non-null  int64  \n",
      " 1   quantity      202208 non-null  int64  \n",
      " 2   price         202208 non-null  float64\n",
      " 3   category_ids  202208 non-null  object \n",
      " 4   date          202208 non-null  object \n",
      " 5   message_id    202208 non-null  object \n",
      "dtypes: float64(1), int64(2), object(3)\n",
      "memory usage: 9.3+ MB\n"
     ]
    }
   ],
   "source": [
    "df_purchases.info()"
   ]
  },
  {
   "cell_type": "markdown",
   "metadata": {},
   "source": [
    "**В `df_purchases` также наблюдается несоответствие данных**"
   ]
  },
  {
   "cell_type": "code",
   "execution_count": 19,
   "metadata": {},
   "outputs": [
    {
     "data": {
      "text/html": [
       "<div>\n",
       "<style scoped>\n",
       "    .dataframe tbody tr th:only-of-type {\n",
       "        vertical-align: middle;\n",
       "    }\n",
       "\n",
       "    .dataframe tbody tr th {\n",
       "        vertical-align: top;\n",
       "    }\n",
       "\n",
       "    .dataframe thead th {\n",
       "        text-align: right;\n",
       "    }\n",
       "</style>\n",
       "<table border=\"1\" class=\"dataframe\">\n",
       "  <thead>\n",
       "    <tr style=\"text-align: right;\">\n",
       "      <th></th>\n",
       "      <th>client_id</th>\n",
       "      <th>quantity</th>\n",
       "      <th>price</th>\n",
       "      <th>category_ids</th>\n",
       "      <th>date</th>\n",
       "      <th>message_id</th>\n",
       "    </tr>\n",
       "  </thead>\n",
       "  <tbody>\n",
       "    <tr>\n",
       "      <th>0</th>\n",
       "      <td>1515915625468169594</td>\n",
       "      <td>1</td>\n",
       "      <td>1999.00</td>\n",
       "      <td>['4', '28', '57', '431']</td>\n",
       "      <td>2022-05-16</td>\n",
       "      <td>1515915625468169594-4301-627b661e9736d</td>\n",
       "    </tr>\n",
       "    <tr>\n",
       "      <th>1</th>\n",
       "      <td>1515915625468169594</td>\n",
       "      <td>1</td>\n",
       "      <td>2499.00</td>\n",
       "      <td>['4', '28', '57', '431']</td>\n",
       "      <td>2022-05-16</td>\n",
       "      <td>1515915625468169594-4301-627b661e9736d</td>\n",
       "    </tr>\n",
       "    <tr>\n",
       "      <th>2</th>\n",
       "      <td>1515915625471138230</td>\n",
       "      <td>1</td>\n",
       "      <td>6499.00</td>\n",
       "      <td>['4', '28', '57', '431']</td>\n",
       "      <td>2022-05-16</td>\n",
       "      <td>1515915625471138230-4437-6282242f27843</td>\n",
       "    </tr>\n",
       "    <tr>\n",
       "      <th>3</th>\n",
       "      <td>1515915625471138230</td>\n",
       "      <td>1</td>\n",
       "      <td>4999.00</td>\n",
       "      <td>['4', '28', '244', '432']</td>\n",
       "      <td>2022-05-16</td>\n",
       "      <td>1515915625471138230-4437-6282242f27843</td>\n",
       "    </tr>\n",
       "    <tr>\n",
       "      <th>4</th>\n",
       "      <td>1515915625471138230</td>\n",
       "      <td>1</td>\n",
       "      <td>4999.00</td>\n",
       "      <td>['4', '28', '49', '413']</td>\n",
       "      <td>2022-05-16</td>\n",
       "      <td>1515915625471138230-4437-6282242f27843</td>\n",
       "    </tr>\n",
       "  </tbody>\n",
       "</table>\n",
       "</div>"
      ],
      "text/plain": [
       "             client_id  quantity   price               category_ids  \\\n",
       "0  1515915625468169594         1 1999.00   ['4', '28', '57', '431']   \n",
       "1  1515915625468169594         1 2499.00   ['4', '28', '57', '431']   \n",
       "2  1515915625471138230         1 6499.00   ['4', '28', '57', '431']   \n",
       "3  1515915625471138230         1 4999.00  ['4', '28', '244', '432']   \n",
       "4  1515915625471138230         1 4999.00   ['4', '28', '49', '413']   \n",
       "\n",
       "         date                              message_id  \n",
       "0  2022-05-16  1515915625468169594-4301-627b661e9736d  \n",
       "1  2022-05-16  1515915625468169594-4301-627b661e9736d  \n",
       "2  2022-05-16  1515915625471138230-4437-6282242f27843  \n",
       "3  2022-05-16  1515915625471138230-4437-6282242f27843  \n",
       "4  2022-05-16  1515915625471138230-4437-6282242f27843  "
      ]
     },
     "execution_count": 19,
     "metadata": {},
     "output_type": "execute_result"
    }
   ],
   "source": [
    "df_purchases.head()"
   ]
  },
  {
   "cell_type": "code",
   "execution_count": 20,
   "metadata": {},
   "outputs": [],
   "source": [
    "df_purchases['date'] = pd.to_datetime(df_purchases['date'], format='%Y-%m-%d')"
   ]
  },
  {
   "cell_type": "markdown",
   "metadata": {},
   "source": [
    "**Заменим тип данных в столбце `date`**"
   ]
  },
  {
   "cell_type": "code",
   "execution_count": 21,
   "metadata": {},
   "outputs": [
    {
     "data": {
      "text/plain": [
       "client_id       0\n",
       "quantity        0\n",
       "price           0\n",
       "category_ids    0\n",
       "date            0\n",
       "message_id      0\n",
       "dtype: int64"
      ]
     },
     "execution_count": 21,
     "metadata": {},
     "output_type": "execute_result"
    }
   ],
   "source": [
    "df_purchases.isna().sum()"
   ]
  },
  {
   "cell_type": "markdown",
   "metadata": {},
   "source": [
    "**Пропуски в `df_purchases` отсутствуют, дубликаты в данном фрейме проверять я считаю бессмыслено. Все потому что у нас нет данных о времени заказа, а люди могут заказывать один и тот же товар несколько раз.**"
   ]
  },
  {
   "cell_type": "code",
   "execution_count": 22,
   "metadata": {},
   "outputs": [],
   "source": [
    "df_purchases['client_message_id'] = df_purchases['message_id'].str.split('-').str[0]\n",
    "df_purchases['bulk_campaign_id_message_id'] = df_purchases['message_id'].str.split('-').str[1]\n",
    "df_purchases['message_id_code'] = df_purchases['message_id'].str.split('-').str[2]"
   ]
  },
  {
   "cell_type": "markdown",
   "metadata": {},
   "source": [
    "**Так как `message_id` состоит из трех частей `client_message_id`, `bulk_campaign_id_message_id`, `message_id_code` разделим их, чтобы проверить на соответствие**"
   ]
  },
  {
   "cell_type": "code",
   "execution_count": 23,
   "metadata": {},
   "outputs": [
    {
     "data": {
      "text/html": [
       "<div>\n",
       "<style scoped>\n",
       "    .dataframe tbody tr th:only-of-type {\n",
       "        vertical-align: middle;\n",
       "    }\n",
       "\n",
       "    .dataframe tbody tr th {\n",
       "        vertical-align: top;\n",
       "    }\n",
       "\n",
       "    .dataframe thead th {\n",
       "        text-align: right;\n",
       "    }\n",
       "</style>\n",
       "<table border=\"1\" class=\"dataframe\">\n",
       "  <thead>\n",
       "    <tr style=\"text-align: right;\">\n",
       "      <th></th>\n",
       "      <th>client_id</th>\n",
       "      <th>quantity</th>\n",
       "      <th>price</th>\n",
       "      <th>category_ids</th>\n",
       "      <th>date</th>\n",
       "      <th>message_id</th>\n",
       "      <th>client_message_id</th>\n",
       "      <th>bulk_campaign_id_message_id</th>\n",
       "      <th>message_id_code</th>\n",
       "    </tr>\n",
       "  </thead>\n",
       "  <tbody>\n",
       "    <tr>\n",
       "      <th>0</th>\n",
       "      <td>1515915625468169594</td>\n",
       "      <td>1</td>\n",
       "      <td>1999.00</td>\n",
       "      <td>['4', '28', '57', '431']</td>\n",
       "      <td>2022-05-16</td>\n",
       "      <td>1515915625468169594-4301-627b661e9736d</td>\n",
       "      <td>1515915625468169594</td>\n",
       "      <td>4301</td>\n",
       "      <td>627b661e9736d</td>\n",
       "    </tr>\n",
       "    <tr>\n",
       "      <th>1</th>\n",
       "      <td>1515915625468169594</td>\n",
       "      <td>1</td>\n",
       "      <td>2499.00</td>\n",
       "      <td>['4', '28', '57', '431']</td>\n",
       "      <td>2022-05-16</td>\n",
       "      <td>1515915625468169594-4301-627b661e9736d</td>\n",
       "      <td>1515915625468169594</td>\n",
       "      <td>4301</td>\n",
       "      <td>627b661e9736d</td>\n",
       "    </tr>\n",
       "    <tr>\n",
       "      <th>2</th>\n",
       "      <td>1515915625471138230</td>\n",
       "      <td>1</td>\n",
       "      <td>6499.00</td>\n",
       "      <td>['4', '28', '57', '431']</td>\n",
       "      <td>2022-05-16</td>\n",
       "      <td>1515915625471138230-4437-6282242f27843</td>\n",
       "      <td>1515915625471138230</td>\n",
       "      <td>4437</td>\n",
       "      <td>6282242f27843</td>\n",
       "    </tr>\n",
       "    <tr>\n",
       "      <th>3</th>\n",
       "      <td>1515915625471138230</td>\n",
       "      <td>1</td>\n",
       "      <td>4999.00</td>\n",
       "      <td>['4', '28', '244', '432']</td>\n",
       "      <td>2022-05-16</td>\n",
       "      <td>1515915625471138230-4437-6282242f27843</td>\n",
       "      <td>1515915625471138230</td>\n",
       "      <td>4437</td>\n",
       "      <td>6282242f27843</td>\n",
       "    </tr>\n",
       "    <tr>\n",
       "      <th>4</th>\n",
       "      <td>1515915625471138230</td>\n",
       "      <td>1</td>\n",
       "      <td>4999.00</td>\n",
       "      <td>['4', '28', '49', '413']</td>\n",
       "      <td>2022-05-16</td>\n",
       "      <td>1515915625471138230-4437-6282242f27843</td>\n",
       "      <td>1515915625471138230</td>\n",
       "      <td>4437</td>\n",
       "      <td>6282242f27843</td>\n",
       "    </tr>\n",
       "  </tbody>\n",
       "</table>\n",
       "</div>"
      ],
      "text/plain": [
       "             client_id  quantity   price               category_ids  \\\n",
       "0  1515915625468169594         1 1999.00   ['4', '28', '57', '431']   \n",
       "1  1515915625468169594         1 2499.00   ['4', '28', '57', '431']   \n",
       "2  1515915625471138230         1 6499.00   ['4', '28', '57', '431']   \n",
       "3  1515915625471138230         1 4999.00  ['4', '28', '244', '432']   \n",
       "4  1515915625471138230         1 4999.00   ['4', '28', '49', '413']   \n",
       "\n",
       "        date                              message_id    client_message_id  \\\n",
       "0 2022-05-16  1515915625468169594-4301-627b661e9736d  1515915625468169594   \n",
       "1 2022-05-16  1515915625468169594-4301-627b661e9736d  1515915625468169594   \n",
       "2 2022-05-16  1515915625471138230-4437-6282242f27843  1515915625471138230   \n",
       "3 2022-05-16  1515915625471138230-4437-6282242f27843  1515915625471138230   \n",
       "4 2022-05-16  1515915625471138230-4437-6282242f27843  1515915625471138230   \n",
       "\n",
       "  bulk_campaign_id_message_id message_id_code  \n",
       "0                        4301   627b661e9736d  \n",
       "1                        4301   627b661e9736d  \n",
       "2                        4437   6282242f27843  \n",
       "3                        4437   6282242f27843  \n",
       "4                        4437   6282242f27843  "
      ]
     },
     "execution_count": 23,
     "metadata": {},
     "output_type": "execute_result"
    }
   ],
   "source": [
    "df_purchases.head()"
   ]
  },
  {
   "cell_type": "code",
   "execution_count": 24,
   "metadata": {},
   "outputs": [],
   "source": [
    "df_purchases_1 = df_purchases.copy()"
   ]
  },
  {
   "cell_type": "code",
   "execution_count": 25,
   "metadata": {},
   "outputs": [],
   "source": [
    "df_purchases_1['client_message_id'] = df_purchases_1['client_message_id'].astype('int64')"
   ]
  },
  {
   "cell_type": "code",
   "execution_count": 26,
   "metadata": {},
   "outputs": [],
   "source": [
    "df_purchases_1 = df_purchases_1.loc[(df_purchases_1['client_id']==df_purchases_1['client_message_id'])]"
   ]
  },
  {
   "cell_type": "markdown",
   "metadata": {},
   "source": [
    "**Оставим в датафрейме только тех клиентов у которых совпадает `client_id` и первая составляющая `message_id`**"
   ]
  },
  {
   "cell_type": "code",
   "execution_count": 27,
   "metadata": {},
   "outputs": [
    {
     "data": {
      "text/plain": [
       "(146525, 9)"
      ]
     },
     "execution_count": 27,
     "metadata": {},
     "output_type": "execute_result"
    }
   ],
   "source": [
    "df_purchases_1.shape"
   ]
  },
  {
   "cell_type": "markdown",
   "metadata": {},
   "source": [
    "**Из датафрейма было удалено порядка 50000 строк**"
   ]
  },
  {
   "cell_type": "code",
   "execution_count": 28,
   "metadata": {},
   "outputs": [
    {
     "name": "stdout",
     "output_type": "stream",
     "text": [
      "<class 'pandas.core.frame.DataFrame'>\n",
      "Index: 146525 entries, 0 to 202203\n",
      "Data columns (total 9 columns):\n",
      " #   Column                       Non-Null Count   Dtype         \n",
      "---  ------                       --------------   -----         \n",
      " 0   client_id                    146525 non-null  int64         \n",
      " 1   quantity                     146525 non-null  int64         \n",
      " 2   price                        146525 non-null  float64       \n",
      " 3   category_ids                 146525 non-null  object        \n",
      " 4   date                         146525 non-null  datetime64[ns]\n",
      " 5   message_id                   146525 non-null  object        \n",
      " 6   client_message_id            146525 non-null  int64         \n",
      " 7   bulk_campaign_id_message_id  146525 non-null  object        \n",
      " 8   message_id_code              146525 non-null  object        \n",
      "dtypes: datetime64[ns](1), float64(1), int64(3), object(4)\n",
      "memory usage: 11.2+ MB\n"
     ]
    }
   ],
   "source": [
    "df_purchases_1.info()"
   ]
  },
  {
   "cell_type": "code",
   "execution_count": 29,
   "metadata": {},
   "outputs": [],
   "source": [
    "df_purchases_1 = df_purchases_1.drop(['client_message_id', 'bulk_campaign_id_message_id', 'message_id_code'], axis=1)"
   ]
  },
  {
   "cell_type": "code",
   "execution_count": 30,
   "metadata": {},
   "outputs": [
    {
     "data": {
      "text/html": [
       "<div>\n",
       "<style scoped>\n",
       "    .dataframe tbody tr th:only-of-type {\n",
       "        vertical-align: middle;\n",
       "    }\n",
       "\n",
       "    .dataframe tbody tr th {\n",
       "        vertical-align: top;\n",
       "    }\n",
       "\n",
       "    .dataframe thead th {\n",
       "        text-align: right;\n",
       "    }\n",
       "</style>\n",
       "<table border=\"1\" class=\"dataframe\">\n",
       "  <thead>\n",
       "    <tr style=\"text-align: right;\">\n",
       "      <th></th>\n",
       "      <th>client_id</th>\n",
       "      <th>quantity</th>\n",
       "      <th>price</th>\n",
       "      <th>category_ids</th>\n",
       "      <th>date</th>\n",
       "      <th>message_id</th>\n",
       "    </tr>\n",
       "  </thead>\n",
       "  <tbody>\n",
       "    <tr>\n",
       "      <th>0</th>\n",
       "      <td>1515915625468169594</td>\n",
       "      <td>1</td>\n",
       "      <td>1999.00</td>\n",
       "      <td>['4', '28', '57', '431']</td>\n",
       "      <td>2022-05-16</td>\n",
       "      <td>1515915625468169594-4301-627b661e9736d</td>\n",
       "    </tr>\n",
       "    <tr>\n",
       "      <th>1</th>\n",
       "      <td>1515915625468169594</td>\n",
       "      <td>1</td>\n",
       "      <td>2499.00</td>\n",
       "      <td>['4', '28', '57', '431']</td>\n",
       "      <td>2022-05-16</td>\n",
       "      <td>1515915625468169594-4301-627b661e9736d</td>\n",
       "    </tr>\n",
       "    <tr>\n",
       "      <th>2</th>\n",
       "      <td>1515915625471138230</td>\n",
       "      <td>1</td>\n",
       "      <td>6499.00</td>\n",
       "      <td>['4', '28', '57', '431']</td>\n",
       "      <td>2022-05-16</td>\n",
       "      <td>1515915625471138230-4437-6282242f27843</td>\n",
       "    </tr>\n",
       "    <tr>\n",
       "      <th>3</th>\n",
       "      <td>1515915625471138230</td>\n",
       "      <td>1</td>\n",
       "      <td>4999.00</td>\n",
       "      <td>['4', '28', '244', '432']</td>\n",
       "      <td>2022-05-16</td>\n",
       "      <td>1515915625471138230-4437-6282242f27843</td>\n",
       "    </tr>\n",
       "    <tr>\n",
       "      <th>4</th>\n",
       "      <td>1515915625471138230</td>\n",
       "      <td>1</td>\n",
       "      <td>4999.00</td>\n",
       "      <td>['4', '28', '49', '413']</td>\n",
       "      <td>2022-05-16</td>\n",
       "      <td>1515915625471138230-4437-6282242f27843</td>\n",
       "    </tr>\n",
       "    <tr>\n",
       "      <th>...</th>\n",
       "      <td>...</td>\n",
       "      <td>...</td>\n",
       "      <td>...</td>\n",
       "      <td>...</td>\n",
       "      <td>...</td>\n",
       "      <td>...</td>\n",
       "    </tr>\n",
       "    <tr>\n",
       "      <th>202199</th>\n",
       "      <td>1515915626010261344</td>\n",
       "      <td>1</td>\n",
       "      <td>1499.00</td>\n",
       "      <td>['2', '18', '212', '726']</td>\n",
       "      <td>2024-02-16</td>\n",
       "      <td>1515915626010261344-14648-65cdb6d56c4c8</td>\n",
       "    </tr>\n",
       "    <tr>\n",
       "      <th>202200</th>\n",
       "      <td>1515915626010261344</td>\n",
       "      <td>1</td>\n",
       "      <td>1499.00</td>\n",
       "      <td>['2', '18', '212', '726']</td>\n",
       "      <td>2024-02-16</td>\n",
       "      <td>1515915626010261344-14648-65cdb6d56c4c8</td>\n",
       "    </tr>\n",
       "    <tr>\n",
       "      <th>202201</th>\n",
       "      <td>1515915626010261344</td>\n",
       "      <td>1</td>\n",
       "      <td>1499.00</td>\n",
       "      <td>['2', '18', '212', '726']</td>\n",
       "      <td>2024-02-16</td>\n",
       "      <td>1515915626010261344-14648-65cdb6d56c4c8</td>\n",
       "    </tr>\n",
       "    <tr>\n",
       "      <th>202202</th>\n",
       "      <td>1515915626010261344</td>\n",
       "      <td>1</td>\n",
       "      <td>1499.00</td>\n",
       "      <td>['2', '18', '212', '726']</td>\n",
       "      <td>2024-02-16</td>\n",
       "      <td>1515915626010261344-14648-65cdb6d56c4c8</td>\n",
       "    </tr>\n",
       "    <tr>\n",
       "      <th>202203</th>\n",
       "      <td>1515915626010261344</td>\n",
       "      <td>1</td>\n",
       "      <td>1499.00</td>\n",
       "      <td>['2', '18', '212', '726']</td>\n",
       "      <td>2024-02-16</td>\n",
       "      <td>1515915626010261344-14648-65cdb6d56c4c8</td>\n",
       "    </tr>\n",
       "  </tbody>\n",
       "</table>\n",
       "<p>146525 rows × 6 columns</p>\n",
       "</div>"
      ],
      "text/plain": [
       "                  client_id  quantity   price               category_ids  \\\n",
       "0       1515915625468169594         1 1999.00   ['4', '28', '57', '431']   \n",
       "1       1515915625468169594         1 2499.00   ['4', '28', '57', '431']   \n",
       "2       1515915625471138230         1 6499.00   ['4', '28', '57', '431']   \n",
       "3       1515915625471138230         1 4999.00  ['4', '28', '244', '432']   \n",
       "4       1515915625471138230         1 4999.00   ['4', '28', '49', '413']   \n",
       "...                     ...       ...     ...                        ...   \n",
       "202199  1515915626010261344         1 1499.00  ['2', '18', '212', '726']   \n",
       "202200  1515915626010261344         1 1499.00  ['2', '18', '212', '726']   \n",
       "202201  1515915626010261344         1 1499.00  ['2', '18', '212', '726']   \n",
       "202202  1515915626010261344         1 1499.00  ['2', '18', '212', '726']   \n",
       "202203  1515915626010261344         1 1499.00  ['2', '18', '212', '726']   \n",
       "\n",
       "             date                               message_id  \n",
       "0      2022-05-16   1515915625468169594-4301-627b661e9736d  \n",
       "1      2022-05-16   1515915625468169594-4301-627b661e9736d  \n",
       "2      2022-05-16   1515915625471138230-4437-6282242f27843  \n",
       "3      2022-05-16   1515915625471138230-4437-6282242f27843  \n",
       "4      2022-05-16   1515915625471138230-4437-6282242f27843  \n",
       "...           ...                                      ...  \n",
       "202199 2024-02-16  1515915626010261344-14648-65cdb6d56c4c8  \n",
       "202200 2024-02-16  1515915626010261344-14648-65cdb6d56c4c8  \n",
       "202201 2024-02-16  1515915626010261344-14648-65cdb6d56c4c8  \n",
       "202202 2024-02-16  1515915626010261344-14648-65cdb6d56c4c8  \n",
       "202203 2024-02-16  1515915626010261344-14648-65cdb6d56c4c8  \n",
       "\n",
       "[146525 rows x 6 columns]"
      ]
     },
     "execution_count": 30,
     "metadata": {},
     "output_type": "execute_result"
    }
   ],
   "source": [
    "df_purchases_1"
   ]
  },
  {
   "cell_type": "markdown",
   "metadata": {},
   "source": [
    "**Вернем датафрейм в исходный вид**"
   ]
  },
  {
   "cell_type": "code",
   "execution_count": 31,
   "metadata": {},
   "outputs": [],
   "source": [
    "df_grouped = df_purchases_1.groupby(['client_id', 'category_ids', 'date', 'message_id'], as_index=False).agg({'quantity': 'sum', 'price': 'sum'})"
   ]
  },
  {
   "cell_type": "markdown",
   "metadata": {},
   "source": [
    "**Так как в столбце `quantity` все по одному товару, сгруппируем датафрейм по столбцам `client_id`, `category_ids`, `date`, `message_id` чтобы сложить `quantity` и `price`**"
   ]
  },
  {
   "cell_type": "code",
   "execution_count": 32,
   "metadata": {},
   "outputs": [
    {
     "data": {
      "text/html": [
       "<div>\n",
       "<style scoped>\n",
       "    .dataframe tbody tr th:only-of-type {\n",
       "        vertical-align: middle;\n",
       "    }\n",
       "\n",
       "    .dataframe tbody tr th {\n",
       "        vertical-align: top;\n",
       "    }\n",
       "\n",
       "    .dataframe thead th {\n",
       "        text-align: right;\n",
       "    }\n",
       "</style>\n",
       "<table border=\"1\" class=\"dataframe\">\n",
       "  <thead>\n",
       "    <tr style=\"text-align: right;\">\n",
       "      <th></th>\n",
       "      <th>client_id</th>\n",
       "      <th>category_ids</th>\n",
       "      <th>date</th>\n",
       "      <th>message_id</th>\n",
       "      <th>quantity</th>\n",
       "      <th>price</th>\n",
       "    </tr>\n",
       "  </thead>\n",
       "  <tbody>\n",
       "    <tr>\n",
       "      <th>0</th>\n",
       "      <td>1515915625468060902</td>\n",
       "      <td>['4', '27', '176', '458']</td>\n",
       "      <td>2022-05-27</td>\n",
       "      <td>1515915625468060902-4617-6290657dac196</td>\n",
       "      <td>2</td>\n",
       "      <td>398.00</td>\n",
       "    </tr>\n",
       "    <tr>\n",
       "      <th>1</th>\n",
       "      <td>1515915625468060902</td>\n",
       "      <td>['4', '27', '1828', '1599']</td>\n",
       "      <td>2022-05-27</td>\n",
       "      <td>1515915625468060902-4617-6290657dac196</td>\n",
       "      <td>1</td>\n",
       "      <td>1299.00</td>\n",
       "    </tr>\n",
       "    <tr>\n",
       "      <th>2</th>\n",
       "      <td>1515915625468060902</td>\n",
       "      <td>['4', '28', '244', '432']</td>\n",
       "      <td>2022-05-27</td>\n",
       "      <td>1515915625468060902-4617-6290657dac196</td>\n",
       "      <td>1</td>\n",
       "      <td>999.00</td>\n",
       "    </tr>\n",
       "    <tr>\n",
       "      <th>3</th>\n",
       "      <td>1515915625468060902</td>\n",
       "      <td>['4', '28', '260', '420']</td>\n",
       "      <td>2022-05-27</td>\n",
       "      <td>1515915625468060902-4617-6290657dac196</td>\n",
       "      <td>2</td>\n",
       "      <td>3998.00</td>\n",
       "    </tr>\n",
       "    <tr>\n",
       "      <th>4</th>\n",
       "      <td>1515915625468060902</td>\n",
       "      <td>['4', '28', '290', '422']</td>\n",
       "      <td>2022-05-27</td>\n",
       "      <td>1515915625468060902-4617-6290657dac196</td>\n",
       "      <td>1</td>\n",
       "      <td>299.00</td>\n",
       "    </tr>\n",
       "    <tr>\n",
       "      <th>...</th>\n",
       "      <td>...</td>\n",
       "      <td>...</td>\n",
       "      <td>...</td>\n",
       "      <td>...</td>\n",
       "      <td>...</td>\n",
       "      <td>...</td>\n",
       "    </tr>\n",
       "    <tr>\n",
       "      <th>73109</th>\n",
       "      <td>1515915626010079153</td>\n",
       "      <td>['2', '18', '258', '1195']</td>\n",
       "      <td>2024-02-13</td>\n",
       "      <td>1515915626010079153-14632-65c9f5c98af32</td>\n",
       "      <td>2</td>\n",
       "      <td>5132.00</td>\n",
       "    </tr>\n",
       "    <tr>\n",
       "      <th>73110</th>\n",
       "      <td>1515915626010079153</td>\n",
       "      <td>['2', '18', '61', '661']</td>\n",
       "      <td>2024-02-13</td>\n",
       "      <td>1515915626010079153-14632-65c9f5c98af32</td>\n",
       "      <td>2</td>\n",
       "      <td>2828.00</td>\n",
       "    </tr>\n",
       "    <tr>\n",
       "      <th>73111</th>\n",
       "      <td>1515915626010152263</td>\n",
       "      <td>['2', '18', '267', '443']</td>\n",
       "      <td>2024-02-14</td>\n",
       "      <td>1515915626010152263-14649-65cca1b63edf7</td>\n",
       "      <td>4</td>\n",
       "      <td>1676.00</td>\n",
       "    </tr>\n",
       "    <tr>\n",
       "      <th>73112</th>\n",
       "      <td>1515915626010221592</td>\n",
       "      <td>['4', '28', '260', '1194']</td>\n",
       "      <td>2024-02-16</td>\n",
       "      <td>1515915626010221592-14664-65cf1622434a9</td>\n",
       "      <td>2</td>\n",
       "      <td>2998.00</td>\n",
       "    </tr>\n",
       "    <tr>\n",
       "      <th>73113</th>\n",
       "      <td>1515915626010261344</td>\n",
       "      <td>['2', '18', '212', '726']</td>\n",
       "      <td>2024-02-16</td>\n",
       "      <td>1515915626010261344-14648-65cdb6d56c4c8</td>\n",
       "      <td>6</td>\n",
       "      <td>8994.00</td>\n",
       "    </tr>\n",
       "  </tbody>\n",
       "</table>\n",
       "<p>73114 rows × 6 columns</p>\n",
       "</div>"
      ],
      "text/plain": [
       "                 client_id                 category_ids       date  \\\n",
       "0      1515915625468060902    ['4', '27', '176', '458'] 2022-05-27   \n",
       "1      1515915625468060902  ['4', '27', '1828', '1599'] 2022-05-27   \n",
       "2      1515915625468060902    ['4', '28', '244', '432'] 2022-05-27   \n",
       "3      1515915625468060902    ['4', '28', '260', '420'] 2022-05-27   \n",
       "4      1515915625468060902    ['4', '28', '290', '422'] 2022-05-27   \n",
       "...                    ...                          ...        ...   \n",
       "73109  1515915626010079153   ['2', '18', '258', '1195'] 2024-02-13   \n",
       "73110  1515915626010079153     ['2', '18', '61', '661'] 2024-02-13   \n",
       "73111  1515915626010152263    ['2', '18', '267', '443'] 2024-02-14   \n",
       "73112  1515915626010221592   ['4', '28', '260', '1194'] 2024-02-16   \n",
       "73113  1515915626010261344    ['2', '18', '212', '726'] 2024-02-16   \n",
       "\n",
       "                                    message_id  quantity   price  \n",
       "0       1515915625468060902-4617-6290657dac196         2  398.00  \n",
       "1       1515915625468060902-4617-6290657dac196         1 1299.00  \n",
       "2       1515915625468060902-4617-6290657dac196         1  999.00  \n",
       "3       1515915625468060902-4617-6290657dac196         2 3998.00  \n",
       "4       1515915625468060902-4617-6290657dac196         1  299.00  \n",
       "...                                        ...       ...     ...  \n",
       "73109  1515915626010079153-14632-65c9f5c98af32         2 5132.00  \n",
       "73110  1515915626010079153-14632-65c9f5c98af32         2 2828.00  \n",
       "73111  1515915626010152263-14649-65cca1b63edf7         4 1676.00  \n",
       "73112  1515915626010221592-14664-65cf1622434a9         2 2998.00  \n",
       "73113  1515915626010261344-14648-65cdb6d56c4c8         6 8994.00  \n",
       "\n",
       "[73114 rows x 6 columns]"
      ]
     },
     "execution_count": 32,
     "metadata": {},
     "output_type": "execute_result"
    }
   ],
   "source": [
    "df_grouped"
   ]
  },
  {
   "cell_type": "markdown",
   "metadata": {},
   "source": [
    "**Датафрейм еще раз сократился в 2 раза, но данные мы не потеряли**"
   ]
  },
  {
   "cell_type": "code",
   "execution_count": 33,
   "metadata": {},
   "outputs": [],
   "source": [
    "def process_categories(categories):\n",
    "    \n",
    "    categories_list = [cat.strip() for cat in categories.strip('[]').split(',')]\n",
    "    \n",
    "    \n",
    "    unique_categories = sorted(set(categories_list), key=categories_list.index)  \n",
    "    \n",
    "    \n",
    "    return ', '.join(unique_categories)\n",
    "\n",
    "\n",
    "df_grouped['category_ids'] = df_grouped['category_ids'].apply(process_categories)"
   ]
  },
  {
   "cell_type": "code",
   "execution_count": 34,
   "metadata": {},
   "outputs": [
    {
     "data": {
      "text/html": [
       "<div>\n",
       "<style scoped>\n",
       "    .dataframe tbody tr th:only-of-type {\n",
       "        vertical-align: middle;\n",
       "    }\n",
       "\n",
       "    .dataframe tbody tr th {\n",
       "        vertical-align: top;\n",
       "    }\n",
       "\n",
       "    .dataframe thead th {\n",
       "        text-align: right;\n",
       "    }\n",
       "</style>\n",
       "<table border=\"1\" class=\"dataframe\">\n",
       "  <thead>\n",
       "    <tr style=\"text-align: right;\">\n",
       "      <th></th>\n",
       "      <th>client_id</th>\n",
       "      <th>category_ids</th>\n",
       "      <th>date</th>\n",
       "      <th>message_id</th>\n",
       "      <th>quantity</th>\n",
       "      <th>price</th>\n",
       "    </tr>\n",
       "  </thead>\n",
       "  <tbody>\n",
       "    <tr>\n",
       "      <th>0</th>\n",
       "      <td>1515915625468060902</td>\n",
       "      <td>'4', '27', '176', '458'</td>\n",
       "      <td>2022-05-27</td>\n",
       "      <td>1515915625468060902-4617-6290657dac196</td>\n",
       "      <td>2</td>\n",
       "      <td>398.00</td>\n",
       "    </tr>\n",
       "    <tr>\n",
       "      <th>1</th>\n",
       "      <td>1515915625468060902</td>\n",
       "      <td>'4', '27', '1828', '1599'</td>\n",
       "      <td>2022-05-27</td>\n",
       "      <td>1515915625468060902-4617-6290657dac196</td>\n",
       "      <td>1</td>\n",
       "      <td>1299.00</td>\n",
       "    </tr>\n",
       "    <tr>\n",
       "      <th>2</th>\n",
       "      <td>1515915625468060902</td>\n",
       "      <td>'4', '28', '244', '432'</td>\n",
       "      <td>2022-05-27</td>\n",
       "      <td>1515915625468060902-4617-6290657dac196</td>\n",
       "      <td>1</td>\n",
       "      <td>999.00</td>\n",
       "    </tr>\n",
       "    <tr>\n",
       "      <th>3</th>\n",
       "      <td>1515915625468060902</td>\n",
       "      <td>'4', '28', '260', '420'</td>\n",
       "      <td>2022-05-27</td>\n",
       "      <td>1515915625468060902-4617-6290657dac196</td>\n",
       "      <td>2</td>\n",
       "      <td>3998.00</td>\n",
       "    </tr>\n",
       "    <tr>\n",
       "      <th>4</th>\n",
       "      <td>1515915625468060902</td>\n",
       "      <td>'4', '28', '290', '422'</td>\n",
       "      <td>2022-05-27</td>\n",
       "      <td>1515915625468060902-4617-6290657dac196</td>\n",
       "      <td>1</td>\n",
       "      <td>299.00</td>\n",
       "    </tr>\n",
       "    <tr>\n",
       "      <th>...</th>\n",
       "      <td>...</td>\n",
       "      <td>...</td>\n",
       "      <td>...</td>\n",
       "      <td>...</td>\n",
       "      <td>...</td>\n",
       "      <td>...</td>\n",
       "    </tr>\n",
       "    <tr>\n",
       "      <th>73109</th>\n",
       "      <td>1515915626010079153</td>\n",
       "      <td>'2', '18', '258', '1195'</td>\n",
       "      <td>2024-02-13</td>\n",
       "      <td>1515915626010079153-14632-65c9f5c98af32</td>\n",
       "      <td>2</td>\n",
       "      <td>5132.00</td>\n",
       "    </tr>\n",
       "    <tr>\n",
       "      <th>73110</th>\n",
       "      <td>1515915626010079153</td>\n",
       "      <td>'2', '18', '61', '661'</td>\n",
       "      <td>2024-02-13</td>\n",
       "      <td>1515915626010079153-14632-65c9f5c98af32</td>\n",
       "      <td>2</td>\n",
       "      <td>2828.00</td>\n",
       "    </tr>\n",
       "    <tr>\n",
       "      <th>73111</th>\n",
       "      <td>1515915626010152263</td>\n",
       "      <td>'2', '18', '267', '443'</td>\n",
       "      <td>2024-02-14</td>\n",
       "      <td>1515915626010152263-14649-65cca1b63edf7</td>\n",
       "      <td>4</td>\n",
       "      <td>1676.00</td>\n",
       "    </tr>\n",
       "    <tr>\n",
       "      <th>73112</th>\n",
       "      <td>1515915626010221592</td>\n",
       "      <td>'4', '28', '260', '1194'</td>\n",
       "      <td>2024-02-16</td>\n",
       "      <td>1515915626010221592-14664-65cf1622434a9</td>\n",
       "      <td>2</td>\n",
       "      <td>2998.00</td>\n",
       "    </tr>\n",
       "    <tr>\n",
       "      <th>73113</th>\n",
       "      <td>1515915626010261344</td>\n",
       "      <td>'2', '18', '212', '726'</td>\n",
       "      <td>2024-02-16</td>\n",
       "      <td>1515915626010261344-14648-65cdb6d56c4c8</td>\n",
       "      <td>6</td>\n",
       "      <td>8994.00</td>\n",
       "    </tr>\n",
       "  </tbody>\n",
       "</table>\n",
       "<p>73114 rows × 6 columns</p>\n",
       "</div>"
      ],
      "text/plain": [
       "                 client_id               category_ids       date  \\\n",
       "0      1515915625468060902    '4', '27', '176', '458' 2022-05-27   \n",
       "1      1515915625468060902  '4', '27', '1828', '1599' 2022-05-27   \n",
       "2      1515915625468060902    '4', '28', '244', '432' 2022-05-27   \n",
       "3      1515915625468060902    '4', '28', '260', '420' 2022-05-27   \n",
       "4      1515915625468060902    '4', '28', '290', '422' 2022-05-27   \n",
       "...                    ...                        ...        ...   \n",
       "73109  1515915626010079153   '2', '18', '258', '1195' 2024-02-13   \n",
       "73110  1515915626010079153     '2', '18', '61', '661' 2024-02-13   \n",
       "73111  1515915626010152263    '2', '18', '267', '443' 2024-02-14   \n",
       "73112  1515915626010221592   '4', '28', '260', '1194' 2024-02-16   \n",
       "73113  1515915626010261344    '2', '18', '212', '726' 2024-02-16   \n",
       "\n",
       "                                    message_id  quantity   price  \n",
       "0       1515915625468060902-4617-6290657dac196         2  398.00  \n",
       "1       1515915625468060902-4617-6290657dac196         1 1299.00  \n",
       "2       1515915625468060902-4617-6290657dac196         1  999.00  \n",
       "3       1515915625468060902-4617-6290657dac196         2 3998.00  \n",
       "4       1515915625468060902-4617-6290657dac196         1  299.00  \n",
       "...                                        ...       ...     ...  \n",
       "73109  1515915626010079153-14632-65c9f5c98af32         2 5132.00  \n",
       "73110  1515915626010079153-14632-65c9f5c98af32         2 2828.00  \n",
       "73111  1515915626010152263-14649-65cca1b63edf7         4 1676.00  \n",
       "73112  1515915626010221592-14664-65cf1622434a9         2 2998.00  \n",
       "73113  1515915626010261344-14648-65cdb6d56c4c8         6 8994.00  \n",
       "\n",
       "[73114 rows x 6 columns]"
      ]
     },
     "execution_count": 34,
     "metadata": {},
     "output_type": "execute_result"
    }
   ],
   "source": [
    "df_grouped"
   ]
  },
  {
   "cell_type": "code",
   "execution_count": 37,
   "metadata": {},
   "outputs": [],
   "source": [
    "def process_categories(categories):\n",
    "    # Превращаем строку категорий в список, убирая возможные лишние пробелы\n",
    "    categories_list = [cat.strip() for cat in categories.split(',')]\n",
    "    \n",
    "    # Возвращаем последнюю категорию из списка\n",
    "    return categories_list[-1] if categories_list else None\n",
    "\n",
    "# Применяем функцию ко всему столбцу category_ids\n",
    "df_grouped['category_ids'] = df_grouped['category_ids'].apply(process_categories)"
   ]
  },
  {
   "cell_type": "code",
   "execution_count": 38,
   "metadata": {},
   "outputs": [
    {
     "data": {
      "text/html": [
       "<div>\n",
       "<style scoped>\n",
       "    .dataframe tbody tr th:only-of-type {\n",
       "        vertical-align: middle;\n",
       "    }\n",
       "\n",
       "    .dataframe tbody tr th {\n",
       "        vertical-align: top;\n",
       "    }\n",
       "\n",
       "    .dataframe thead th {\n",
       "        text-align: right;\n",
       "    }\n",
       "</style>\n",
       "<table border=\"1\" class=\"dataframe\">\n",
       "  <thead>\n",
       "    <tr style=\"text-align: right;\">\n",
       "      <th></th>\n",
       "      <th>client_id</th>\n",
       "      <th>category_ids</th>\n",
       "      <th>date</th>\n",
       "      <th>message_id</th>\n",
       "      <th>quantity</th>\n",
       "      <th>price</th>\n",
       "    </tr>\n",
       "  </thead>\n",
       "  <tbody>\n",
       "    <tr>\n",
       "      <th>0</th>\n",
       "      <td>1515915625468060902</td>\n",
       "      <td>'458'</td>\n",
       "      <td>2022-05-27</td>\n",
       "      <td>1515915625468060902-4617-6290657dac196</td>\n",
       "      <td>2</td>\n",
       "      <td>398.00</td>\n",
       "    </tr>\n",
       "    <tr>\n",
       "      <th>1</th>\n",
       "      <td>1515915625468060902</td>\n",
       "      <td>'1599'</td>\n",
       "      <td>2022-05-27</td>\n",
       "      <td>1515915625468060902-4617-6290657dac196</td>\n",
       "      <td>1</td>\n",
       "      <td>1299.00</td>\n",
       "    </tr>\n",
       "    <tr>\n",
       "      <th>2</th>\n",
       "      <td>1515915625468060902</td>\n",
       "      <td>'432'</td>\n",
       "      <td>2022-05-27</td>\n",
       "      <td>1515915625468060902-4617-6290657dac196</td>\n",
       "      <td>1</td>\n",
       "      <td>999.00</td>\n",
       "    </tr>\n",
       "    <tr>\n",
       "      <th>3</th>\n",
       "      <td>1515915625468060902</td>\n",
       "      <td>'420'</td>\n",
       "      <td>2022-05-27</td>\n",
       "      <td>1515915625468060902-4617-6290657dac196</td>\n",
       "      <td>2</td>\n",
       "      <td>3998.00</td>\n",
       "    </tr>\n",
       "    <tr>\n",
       "      <th>4</th>\n",
       "      <td>1515915625468060902</td>\n",
       "      <td>'422'</td>\n",
       "      <td>2022-05-27</td>\n",
       "      <td>1515915625468060902-4617-6290657dac196</td>\n",
       "      <td>1</td>\n",
       "      <td>299.00</td>\n",
       "    </tr>\n",
       "  </tbody>\n",
       "</table>\n",
       "</div>"
      ],
      "text/plain": [
       "             client_id category_ids       date  \\\n",
       "0  1515915625468060902        '458' 2022-05-27   \n",
       "1  1515915625468060902       '1599' 2022-05-27   \n",
       "2  1515915625468060902        '432' 2022-05-27   \n",
       "3  1515915625468060902        '420' 2022-05-27   \n",
       "4  1515915625468060902        '422' 2022-05-27   \n",
       "\n",
       "                               message_id  quantity   price  \n",
       "0  1515915625468060902-4617-6290657dac196         2  398.00  \n",
       "1  1515915625468060902-4617-6290657dac196         1 1299.00  \n",
       "2  1515915625468060902-4617-6290657dac196         1  999.00  \n",
       "3  1515915625468060902-4617-6290657dac196         2 3998.00  \n",
       "4  1515915625468060902-4617-6290657dac196         1  299.00  "
      ]
     },
     "execution_count": 38,
     "metadata": {},
     "output_type": "execute_result"
    }
   ],
   "source": [
    "df_grouped.head()"
   ]
  },
  {
   "cell_type": "markdown",
   "metadata": {},
   "source": [
    "**Тут я не особо разобрался как можно обработать категории, и решил оставить самую глубокую категорию. Понимаю, что в пересечении могла получится категория которая встречается чаще. Но хоть таким образом уменьшим количество уникальных данных**"
   ]
  },
  {
   "cell_type": "code",
   "execution_count": 39,
   "metadata": {},
   "outputs": [
    {
     "data": {
      "text/plain": [
       "842"
      ]
     },
     "execution_count": 39,
     "metadata": {},
     "output_type": "execute_result"
    }
   ],
   "source": [
    "df_grouped['category_ids'].nunique()"
   ]
  },
  {
   "cell_type": "code",
   "execution_count": 40,
   "metadata": {},
   "outputs": [
    {
     "data": {
      "text/plain": [
       "client_id       0\n",
       "category_ids    0\n",
       "date            0\n",
       "message_id      0\n",
       "quantity        0\n",
       "price           0\n",
       "dtype: int64"
      ]
     },
     "execution_count": 40,
     "metadata": {},
     "output_type": "execute_result"
    }
   ],
   "source": [
    "df_grouped.isna().sum()"
   ]
  },
  {
   "cell_type": "code",
   "execution_count": 41,
   "metadata": {},
   "outputs": [],
   "source": [
    "df_grouped['category_ids'] = df_grouped['category_ids'].str.replace(\"'\", \"\")"
   ]
  },
  {
   "cell_type": "code",
   "execution_count": 42,
   "metadata": {},
   "outputs": [],
   "source": [
    "df_grouped = df_grouped.loc[df_grouped['category_ids']!='None']\n",
    "df_grouped = df_grouped.loc[df_grouped['category_ids']!='']"
   ]
  },
  {
   "cell_type": "code",
   "execution_count": 43,
   "metadata": {},
   "outputs": [],
   "source": [
    "df_grouped['category_ids'] = df_grouped['category_ids'].astype('int64')"
   ]
  },
  {
   "cell_type": "markdown",
   "metadata": {},
   "source": [
    "**Удалим строки с пропусками в категориях и поменяем тип данных**"
   ]
  },
  {
   "cell_type": "code",
   "execution_count": 44,
   "metadata": {},
   "outputs": [
    {
     "name": "stdout",
     "output_type": "stream",
     "text": [
      "<class 'pandas.core.frame.DataFrame'>\n",
      "Index: 70972 entries, 0 to 73113\n",
      "Data columns (total 6 columns):\n",
      " #   Column        Non-Null Count  Dtype         \n",
      "---  ------        --------------  -----         \n",
      " 0   client_id     70972 non-null  int64         \n",
      " 1   category_ids  70972 non-null  int64         \n",
      " 2   date          70972 non-null  datetime64[ns]\n",
      " 3   message_id    70972 non-null  object        \n",
      " 4   quantity      70972 non-null  int64         \n",
      " 5   price         70972 non-null  float64       \n",
      "dtypes: datetime64[ns](1), float64(1), int64(3), object(1)\n",
      "memory usage: 3.8+ MB\n"
     ]
    }
   ],
   "source": [
    "df_grouped.info()"
   ]
  },
  {
   "cell_type": "code",
   "execution_count": 45,
   "metadata": {},
   "outputs": [],
   "source": [
    "df_grouped['day_of_week'] = df_grouped['date'].dt.dayofweek"
   ]
  },
  {
   "cell_type": "code",
   "execution_count": 46,
   "metadata": {},
   "outputs": [],
   "source": [
    "df_grouped['year'] = df_grouped['date'].dt.year"
   ]
  },
  {
   "cell_type": "code",
   "execution_count": 47,
   "metadata": {},
   "outputs": [],
   "source": [
    "df_grouped['avg_price'] = df_grouped['price'] / df_grouped['quantity']"
   ]
  },
  {
   "cell_type": "markdown",
   "metadata": {},
   "source": [
    "**Создадим новые признаки `day_of_week`, `year`, `avg_price` в датафрейме с покупками** "
   ]
  },
  {
   "cell_type": "code",
   "execution_count": 48,
   "metadata": {},
   "outputs": [
    {
     "data": {
      "text/html": [
       "<div>\n",
       "<style scoped>\n",
       "    .dataframe tbody tr th:only-of-type {\n",
       "        vertical-align: middle;\n",
       "    }\n",
       "\n",
       "    .dataframe tbody tr th {\n",
       "        vertical-align: top;\n",
       "    }\n",
       "\n",
       "    .dataframe thead th {\n",
       "        text-align: right;\n",
       "    }\n",
       "</style>\n",
       "<table border=\"1\" class=\"dataframe\">\n",
       "  <thead>\n",
       "    <tr style=\"text-align: right;\">\n",
       "      <th></th>\n",
       "      <th>client_id</th>\n",
       "      <th>category_ids</th>\n",
       "      <th>date</th>\n",
       "      <th>message_id</th>\n",
       "      <th>quantity</th>\n",
       "      <th>price</th>\n",
       "      <th>day_of_week</th>\n",
       "      <th>year</th>\n",
       "      <th>avg_price</th>\n",
       "    </tr>\n",
       "  </thead>\n",
       "  <tbody>\n",
       "    <tr>\n",
       "      <th>0</th>\n",
       "      <td>1515915625468060902</td>\n",
       "      <td>458</td>\n",
       "      <td>2022-05-27</td>\n",
       "      <td>1515915625468060902-4617-6290657dac196</td>\n",
       "      <td>2</td>\n",
       "      <td>398.00</td>\n",
       "      <td>4</td>\n",
       "      <td>2022</td>\n",
       "      <td>199.00</td>\n",
       "    </tr>\n",
       "    <tr>\n",
       "      <th>1</th>\n",
       "      <td>1515915625468060902</td>\n",
       "      <td>1599</td>\n",
       "      <td>2022-05-27</td>\n",
       "      <td>1515915625468060902-4617-6290657dac196</td>\n",
       "      <td>1</td>\n",
       "      <td>1299.00</td>\n",
       "      <td>4</td>\n",
       "      <td>2022</td>\n",
       "      <td>1299.00</td>\n",
       "    </tr>\n",
       "    <tr>\n",
       "      <th>2</th>\n",
       "      <td>1515915625468060902</td>\n",
       "      <td>432</td>\n",
       "      <td>2022-05-27</td>\n",
       "      <td>1515915625468060902-4617-6290657dac196</td>\n",
       "      <td>1</td>\n",
       "      <td>999.00</td>\n",
       "      <td>4</td>\n",
       "      <td>2022</td>\n",
       "      <td>999.00</td>\n",
       "    </tr>\n",
       "    <tr>\n",
       "      <th>3</th>\n",
       "      <td>1515915625468060902</td>\n",
       "      <td>420</td>\n",
       "      <td>2022-05-27</td>\n",
       "      <td>1515915625468060902-4617-6290657dac196</td>\n",
       "      <td>2</td>\n",
       "      <td>3998.00</td>\n",
       "      <td>4</td>\n",
       "      <td>2022</td>\n",
       "      <td>1999.00</td>\n",
       "    </tr>\n",
       "    <tr>\n",
       "      <th>4</th>\n",
       "      <td>1515915625468060902</td>\n",
       "      <td>422</td>\n",
       "      <td>2022-05-27</td>\n",
       "      <td>1515915625468060902-4617-6290657dac196</td>\n",
       "      <td>1</td>\n",
       "      <td>299.00</td>\n",
       "      <td>4</td>\n",
       "      <td>2022</td>\n",
       "      <td>299.00</td>\n",
       "    </tr>\n",
       "  </tbody>\n",
       "</table>\n",
       "</div>"
      ],
      "text/plain": [
       "             client_id  category_ids       date  \\\n",
       "0  1515915625468060902           458 2022-05-27   \n",
       "1  1515915625468060902          1599 2022-05-27   \n",
       "2  1515915625468060902           432 2022-05-27   \n",
       "3  1515915625468060902           420 2022-05-27   \n",
       "4  1515915625468060902           422 2022-05-27   \n",
       "\n",
       "                               message_id  quantity   price  day_of_week  \\\n",
       "0  1515915625468060902-4617-6290657dac196         2  398.00            4   \n",
       "1  1515915625468060902-4617-6290657dac196         1 1299.00            4   \n",
       "2  1515915625468060902-4617-6290657dac196         1  999.00            4   \n",
       "3  1515915625468060902-4617-6290657dac196         2 3998.00            4   \n",
       "4  1515915625468060902-4617-6290657dac196         1  299.00            4   \n",
       "\n",
       "   year  avg_price  \n",
       "0  2022     199.00  \n",
       "1  2022    1299.00  \n",
       "2  2022     999.00  \n",
       "3  2022    1999.00  \n",
       "4  2022     299.00  "
      ]
     },
     "execution_count": 48,
     "metadata": {},
     "output_type": "execute_result"
    }
   ],
   "source": [
    "df_grouped.head()"
   ]
  },
  {
   "cell_type": "markdown",
   "metadata": {},
   "source": [
    "# Исследовательский анализ данных"
   ]
  },
  {
   "cell_type": "code",
   "execution_count": 49,
   "metadata": {},
   "outputs": [
    {
     "data": {
      "image/png": "[encoded data removed]",
      "text/plain": [
       "<Figure size 1200x600 with 1 Axes>"
      ]
     },
     "metadata": {},
     "output_type": "display_data"
    }
   ],
   "source": [
    "top_categories = df_grouped.groupby('category_ids')['price'].sum().nlargest(10).index\n",
    "\n",
    "\n",
    "filtered_data = df_grouped[df_grouped['category_ids'].isin(top_categories)]\n",
    "\n",
    "\n",
    "plt.figure(figsize=(12, 6))\n",
    "\n",
    "\n",
    "for category in top_categories:\n",
    "    sns.kdeplot(data=filtered_data[filtered_data['category_ids'] == category],\n",
    "                 x='price', label=category, common_norm=False, alpha=0.5)\n",
    "\n",
    "\n",
    "plt.title('Распределение цены в топ 10 категорий')\n",
    "plt.xlabel('Цена')\n",
    "plt.ylabel('Частота')\n",
    "\n",
    "\n",
    "plt.legend(title='Категория', bbox_to_anchor=(1.05, 1), loc='upper left')\n",
    "plt.tight_layout() \n",
    "\n",
    "plt.show()"
   ]
  },
  {
   "cell_type": "markdown",
   "metadata": {},
   "source": [
    "**Распредление дохода в топ 10 категорий напоминает распредление Пуассона**"
   ]
  },
  {
   "cell_type": "code",
   "execution_count": 74,
   "metadata": {},
   "outputs": [
    {
     "name": "stderr",
     "output_type": "stream",
     "text": [
      "C:\\Users\\Александр\\AppData\\Local\\Temp\\ipykernel_26324\\4014673937.py:8: FutureWarning: \n",
      "\n",
      "Passing `palette` without assigning `hue` is deprecated and will be removed in v0.14.0. Assign the `x` variable to `hue` and set `legend=False` for the same effect.\n",
      "\n",
      "  sns.barplot(data=top_clients, x='client_id', y='price', palette='viridis')\n"
     ]
    },
    {
     "data": {
      "image/png": "[encoded data removed]",
      "text/plain": [
       "<Figure size 1200x600 with 1 Axes>"
      ]
     },
     "metadata": {},
     "output_type": "display_data"
    }
   ],
   "source": [
    "top_clients = df_grouped.groupby('client_id')['price'].sum().nlargest(10)\n",
    "\n",
    "\n",
    "top_clients = top_clients.reset_index()\n",
    "\n",
    "\n",
    "plt.figure(figsize=(12, 6))\n",
    "sns.barplot(data=top_clients, x='client_id', y='price', palette='viridis')\n",
    "plt.title('Топ 10 клиентов по потраченным деньгам')\n",
    "plt.xlabel('Клиент')\n",
    "plt.ylabel('Потраченые деньги')\n",
    "plt.xticks(rotation=45) \n",
    "plt.show()"
   ]
  },
  {
   "cell_type": "markdown",
   "metadata": {},
   "source": [
    "**В среднем топ 10 клиентов потратили более 100000 рублей но есть один, который потратил более 500000 рублей**"
   ]
  },
  {
   "cell_type": "code",
   "execution_count": 75,
   "metadata": {},
   "outputs": [
    {
     "name": "stderr",
     "output_type": "stream",
     "text": [
      "C:\\Users\\Александр\\AppData\\Local\\Temp\\ipykernel_26324\\287064533.py:8: FutureWarning: \n",
      "\n",
      "Passing `palette` without assigning `hue` is deprecated and will be removed in v0.14.0. Assign the `x` variable to `hue` and set `legend=False` for the same effect.\n",
      "\n",
      "  sns.barplot(data=top_clients, x='client_id', y='quantity', palette='viridis')\n"
     ]
    },
    {
     "data": {
      "image/png": "[encoded data removed]",
      "text/plain": [
       "<Figure size 1200x600 with 1 Axes>"
      ]
     },
     "metadata": {},
     "output_type": "display_data"
    }
   ],
   "source": [
    "top_clients = df_grouped.groupby('client_id')['quantity'].sum().nlargest(10)\n",
    "\n",
    "top_clients = top_clients.reset_index()\n",
    "\n",
    "\n",
    "plt.figure(figsize=(12, 6))\n",
    "sns.barplot(data=top_clients, x='client_id', y='quantity', palette='viridis')\n",
    "plt.title('Топ 10 клиентов по количеству заказов')\n",
    "plt.xlabel('Клиент')\n",
    "plt.ylabel('Количество заказов')\n",
    "plt.xticks(rotation=45) \n",
    "plt.show()"
   ]
  },
  {
   "cell_type": "markdown",
   "metadata": {},
   "source": [
    "**Топ 10 клиентов в среднем совершают около 100 заказов**"
   ]
  },
  {
   "cell_type": "code",
   "execution_count": 77,
   "metadata": {},
   "outputs": [
    {
     "data": {
      "image/png": "[encoded data removed]",
      "text/plain": [
       "<Figure size 1000x600 with 1 Axes>"
      ]
     },
     "metadata": {},
     "output_type": "display_data"
    }
   ],
   "source": [
    "weekly_spending = df_grouped.groupby('day_of_week')['price'].sum()\n",
    "\n",
    "plt.figure(figsize=(10, 6))\n",
    "weekly_spending.plot(kind='bar', color='skyblue')\n",
    "plt.title('Сумма потраченных денег по дням недели')\n",
    "plt.xlabel('День недели')\n",
    "plt.ylabel('Сумма денег')\n",
    "plt.xticks(rotation=45)\n",
    "plt.grid(axis='y')\n",
    "plt.show()"
   ]
  },
  {
   "cell_type": "code",
   "execution_count": 80,
   "metadata": {},
   "outputs": [
    {
     "data": {
      "image/png": "[encoded data removed]",
      "text/plain": [
       "<Figure size 1000x600 with 1 Axes>"
      ]
     },
     "metadata": {},
     "output_type": "display_data"
    }
   ],
   "source": [
    "weekly_spending = df_grouped.groupby('category_ids')['quantity'].sum()\n",
    "\n",
    "plt.figure(figsize=(10, 6))\n",
    "weekly_spending.plot(kind='bar', color='skyblue')\n",
    "plt.title('Количество заказов по дням недели')\n",
    "plt.xlabel('День недели')\n",
    "plt.ylabel('Количество заказов')\n",
    "plt.xticks(rotation=45)\n",
    "plt.grid(axis='y')\n",
    "plt.show()"
   ]
  },
  {
   "cell_type": "markdown",
   "metadata": {},
   "source": [
    "**Как ни странно но самый насыщенный день на заказы это пятница**"
   ]
  },
  {
   "cell_type": "code",
   "execution_count": 82,
   "metadata": {},
   "outputs": [
    {
     "name": "stderr",
     "output_type": "stream",
     "text": [
      "C:\\Users\\Александр\\AppData\\Local\\Temp\\ipykernel_26324\\276563907.py:8: FutureWarning: \n",
      "\n",
      "Passing `palette` without assigning `hue` is deprecated and will be removed in v0.14.0. Assign the `x` variable to `hue` and set `legend=False` for the same effect.\n",
      "\n",
      "  sns.barplot(data=top_clients, x='category_ids', y='quantity', palette='viridis')\n"
     ]
    },
    {
     "data": {
      "image/png": "[encoded data removed]",
      "text/plain": [
       "<Figure size 1200x600 with 1 Axes>"
      ]
     },
     "metadata": {},
     "output_type": "display_data"
    }
   ],
   "source": [
    "top_clients = df_grouped.groupby('category_ids')['quantity'].sum().nlargest(10)\n",
    "\n",
    "top_clients = top_clients.reset_index()\n",
    "\n",
    "plt.figure(figsize=(12, 6))\n",
    "sns.barplot(data=top_clients, x='category_ids', y='quantity', palette='viridis')\n",
    "plt.title('Топ 10 категорий по количеству заказов')\n",
    "plt.xlabel('Категория')\n",
    "plt.ylabel('Количество заказов')\n",
    "plt.xticks(rotation=45)\n",
    "plt.grid(axis='y')\n",
    "plt.show()"
   ]
  },
  {
   "cell_type": "code",
   "execution_count": 83,
   "metadata": {},
   "outputs": [
    {
     "name": "stderr",
     "output_type": "stream",
     "text": [
      "C:\\Users\\Александр\\AppData\\Local\\Temp\\ipykernel_26324\\348660402.py:8: FutureWarning: \n",
      "\n",
      "Passing `palette` without assigning `hue` is deprecated and will be removed in v0.14.0. Assign the `x` variable to `hue` and set `legend=False` for the same effect.\n",
      "\n",
      "  sns.barplot(data=top_clients, x='category_ids', y='price', palette='viridis')\n"
     ]
    },
    {
     "data": {
      "image/png": "[encoded data removed]",
      "text/plain": [
       "<Figure size 1200x600 with 1 Axes>"
      ]
     },
     "metadata": {},
     "output_type": "display_data"
    }
   ],
   "source": [
    "top_clients = df_grouped.groupby('category_ids')['price'].sum().nlargest(10)\n",
    "\n",
    "top_clients = top_clients.reset_index()\n",
    "\n",
    "plt.figure(figsize=(12, 6))\n",
    "sns.barplot(data=top_clients, x='category_ids', y='price', palette='viridis')\n",
    "plt.title('Топ 10 категорий по количеству потраченых денег')\n",
    "plt.xlabel('Категория')\n",
    "plt.ylabel('Цена')\n",
    "plt.xticks(rotation=45)\n",
    "plt.grid(axis='y')\n",
    "plt.show()"
   ]
  },
  {
   "cell_type": "markdown",
   "metadata": {},
   "source": [
    "**В топ 10 категориях в среднем около 3000 заказов и потрачено в среднем 5 млн. рублей**"
   ]
  },
  {
   "cell_type": "code",
   "execution_count": 51,
   "metadata": {},
   "outputs": [],
   "source": [
    "df = df_grouped.merge(df_messages, on=['client_id', 'message_id'], how='inner')"
   ]
  },
  {
   "cell_type": "markdown",
   "metadata": {},
   "source": [
    "**Объеденим датафрейм с покупками и сообщениями**"
   ]
  },
  {
   "cell_type": "code",
   "execution_count": 52,
   "metadata": {},
   "outputs": [
    {
     "data": {
      "text/plain": [
       "4"
      ]
     },
     "execution_count": 52,
     "metadata": {},
     "output_type": "execute_result"
    }
   ],
   "source": [
    "df.duplicated().sum()"
   ]
  },
  {
   "cell_type": "code",
   "execution_count": 53,
   "metadata": {},
   "outputs": [],
   "source": [
    "df = df.drop_duplicates()"
   ]
  },
  {
   "cell_type": "markdown",
   "metadata": {},
   "source": [
    "**Удалим 4 будликата, так как они навредят при обучении модели**"
   ]
  },
  {
   "cell_type": "code",
   "execution_count": 54,
   "metadata": {},
   "outputs": [],
   "source": [
    "df['time_between_message_purchase'] = (df['date_x'] - df['date_y']).dt.days"
   ]
  },
  {
   "cell_type": "code",
   "execution_count": 55,
   "metadata": {},
   "outputs": [],
   "source": [
    "df['created_at'] = pd.to_datetime(df['created_at'], format='%Y-%m-%d %H:%M:%S')\n",
    "df['time_between_message_event'] = (df['date_y'] - df['date_y']).dt.days"
   ]
  },
  {
   "cell_type": "markdown",
   "metadata": {},
   "source": [
    "**Я решил создать новые признаки такие как `time_between_message_purchase`- количество дней между отправкой сообщения и покупкой, `time_between_message_event`- количество дней между отправкой сообщения и действием**"
   ]
  },
  {
   "cell_type": "code",
   "execution_count": 56,
   "metadata": {},
   "outputs": [],
   "source": [
    "cols = ['date_x', 'message_id', 'bulk_campaign_id', 'event', 'channel', 'date_y', 'created_at']\n",
    "df = df.drop(cols, axis=1)"
   ]
  },
  {
   "cell_type": "markdown",
   "metadata": {},
   "source": [
    "**Удалим столбцы которые не будут принимать участие в обучении модели**"
   ]
  },
  {
   "cell_type": "code",
   "execution_count": 57,
   "metadata": {},
   "outputs": [
    {
     "name": "stdout",
     "output_type": "stream",
     "text": [
      "<class 'pandas.core.frame.DataFrame'>\n",
      "Index: 370972 entries, 0 to 370975\n",
      "Data columns (total 9 columns):\n",
      " #   Column                         Non-Null Count   Dtype  \n",
      "---  ------                         --------------   -----  \n",
      " 0   client_id                      370972 non-null  int64  \n",
      " 1   category_ids                   370972 non-null  int64  \n",
      " 2   quantity                       370972 non-null  int64  \n",
      " 3   price                          370972 non-null  float64\n",
      " 4   day_of_week                    370972 non-null  int32  \n",
      " 5   year                           370972 non-null  int32  \n",
      " 6   avg_price                      370972 non-null  float64\n",
      " 7   time_between_message_purchase  370972 non-null  int64  \n",
      " 8   time_between_message_event     370972 non-null  int64  \n",
      "dtypes: float64(2), int32(2), int64(5)\n",
      "memory usage: 25.5 MB\n"
     ]
    }
   ],
   "source": [
    "df.info()"
   ]
  },
  {
   "cell_type": "code",
   "execution_count": 58,
   "metadata": {},
   "outputs": [],
   "source": [
    "df = df.merge(df_target, on='client_id', how='left')"
   ]
  },
  {
   "cell_type": "markdown",
   "metadata": {},
   "source": [
    "**Дабавим Таргет в данные**"
   ]
  },
  {
   "cell_type": "code",
   "execution_count": 81,
   "metadata": {},
   "outputs": [
    {
     "data": {
      "text/plain": [
       "<Axes: >"
      ]
     },
     "execution_count": 81,
     "metadata": {},
     "output_type": "execute_result"
    },
    {
     "data": {
      "image/png": "[encoded data removed]",
      "text/plain": [
       "<Figure size 640x480 with 1 Axes>"
      ]
     },
     "metadata": {},
     "output_type": "display_data"
    }
   ],
   "source": [
    "df['target'].hist()"
   ]
  },
  {
   "cell_type": "markdown",
   "metadata": {},
   "source": [
    "**В данных наблюдается достаточно большой дисбаланс классов, если он навредит обучению модели будем с этим что то делать**"
   ]
  },
  {
   "cell_type": "code",
   "execution_count": 59,
   "metadata": {},
   "outputs": [
    {
     "name": "stdout",
     "output_type": "stream",
     "text": [
      "<class 'pandas.core.frame.DataFrame'>\n",
      "RangeIndex: 370972 entries, 0 to 370971\n",
      "Data columns (total 10 columns):\n",
      " #   Column                         Non-Null Count   Dtype  \n",
      "---  ------                         --------------   -----  \n",
      " 0   client_id                      370972 non-null  int64  \n",
      " 1   category_ids                   370972 non-null  int64  \n",
      " 2   quantity                       370972 non-null  int64  \n",
      " 3   price                          370972 non-null  float64\n",
      " 4   day_of_week                    370972 non-null  int32  \n",
      " 5   year                           370972 non-null  int32  \n",
      " 6   avg_price                      370972 non-null  float64\n",
      " 7   time_between_message_purchase  370972 non-null  int64  \n",
      " 8   time_between_message_event     370972 non-null  int64  \n",
      " 9   target                         370972 non-null  int64  \n",
      "dtypes: float64(2), int32(2), int64(6)\n",
      "memory usage: 25.5 MB\n"
     ]
    }
   ],
   "source": [
    "df.info()"
   ]
  },
  {
   "cell_type": "code",
   "execution_count": 60,
   "metadata": {},
   "outputs": [
    {
     "data": {
      "text/plain": [
       "client_id                        0\n",
       "category_ids                     0\n",
       "quantity                         0\n",
       "price                            0\n",
       "day_of_week                      0\n",
       "year                             0\n",
       "avg_price                        0\n",
       "time_between_message_purchase    0\n",
       "time_between_message_event       0\n",
       "target                           0\n",
       "dtype: int64"
      ]
     },
     "execution_count": 60,
     "metadata": {},
     "output_type": "execute_result"
    }
   ],
   "source": [
    "df.isna().sum()"
   ]
  },
  {
   "cell_type": "markdown",
   "metadata": {},
   "source": [
    "**Данные готовы к обучению**"
   ]
  },
  {
   "cell_type": "markdown",
   "metadata": {},
   "source": [
    "# Корреляционный анализ"
   ]
  },
  {
   "cell_type": "code",
   "execution_count": 61,
   "metadata": {},
   "outputs": [
    {
     "name": "stdout",
     "output_type": "stream",
     "text": [
      "interval columns not set, guessing: ['category_ids', 'quantity', 'price', 'day_of_week', 'year', 'avg_price', 'time_between_message_purchase', 'time_between_message_event', 'target']\n"
     ]
    },
    {
     "name": "stderr",
     "output_type": "stream",
     "text": [
      "c:\\Games\\envs\\suka\\lib\\site-packages\\phik\\data_quality.py:72: UserWarning: Not enough unique value for variable time_between_message_event for analysis 1. Dropping this column\n",
      "  warnings.warn(\n"
     ]
    },
    {
     "data": {
      "text/plain": [
       "<Axes: >"
      ]
     },
     "execution_count": 61,
     "metadata": {},
     "output_type": "execute_result"
    },
    {
     "data": {
      "image/png": "[encoded data removed]",
      "text/plain": [
       "<Figure size 640x480 with 2 Axes>"
      ]
     },
     "metadata": {},
     "output_type": "display_data"
    }
   ],
   "source": [
    "fig, ax = plt.subplots()\n",
    "sns.heatmap(df.drop(['client_id'], axis=1).phik_matrix(),\n",
    "            annot=True,\n",
    "            cmap='coolwarm',\n",
    "            ax=ax)"
   ]
  },
  {
   "cell_type": "markdown",
   "metadata": {},
   "source": [
    "**Мультиколлинеарности с целевым признаком не обнаружено**"
   ]
  },
  {
   "cell_type": "markdown",
   "metadata": {},
   "source": [
    "# Обучение моделей и предсказание"
   ]
  },
  {
   "cell_type": "code",
   "execution_count": 62,
   "metadata": {},
   "outputs": [],
   "source": [
    "RANDOM_STATE = 12345\n",
    "TEST_SIZE = 0.25\n",
    "\n",
    "X_train, X_test, y_train, y_test = train_test_split(\n",
    "    df.drop(['client_id','target'], axis=1),\n",
    "    df['target'],\n",
    "    test_size = TEST_SIZE,\n",
    "    random_state = RANDOM_STATE,\n",
    "    stratify=df['target'])"
   ]
  },
  {
   "cell_type": "code",
   "execution_count": 63,
   "metadata": {},
   "outputs": [
    {
     "data": {
      "text/plain": [
       "(278229, 8)"
      ]
     },
     "metadata": {},
     "output_type": "display_data"
    },
    {
     "data": {
      "text/plain": [
       "(278229,)"
      ]
     },
     "metadata": {},
     "output_type": "display_data"
    },
    {
     "data": {
      "text/plain": [
       "(92743, 8)"
      ]
     },
     "metadata": {},
     "output_type": "display_data"
    },
    {
     "data": {
      "text/plain": [
       "(92743,)"
      ]
     },
     "metadata": {},
     "output_type": "display_data"
    }
   ],
   "source": [
    "display(X_train.shape)\n",
    "display(y_train.shape)\n",
    "\n",
    "display(X_test.shape)\n",
    "display(y_test.shape)"
   ]
  },
  {
   "cell_type": "code",
   "execution_count": 64,
   "metadata": {},
   "outputs": [
    {
     "name": "stdout",
     "output_type": "stream",
     "text": [
      "Fitting 3 folds for each of 10 candidates, totalling 30 fits\n"
     ]
    },
    {
     "data": {
      "text/html": [
       "<style>#sk-container-id-1 {\n",
       "  /* Definition of color scheme common for light and dark mode */\n",
       "  --sklearn-color-text: black;\n",
       "  --sklearn-color-line: gray;\n",
       "  /* Definition of color scheme for unfitted estimators */\n",
       "  --sklearn-color-unfitted-level-0: #fff5e6;\n",
       "  --sklearn-color-unfitted-level-1: #f6e4d2;\n",
       "  --sklearn-color-unfitted-level-2: #ffe0b3;\n",
       "  --sklearn-color-unfitted-level-3: chocolate;\n",
       "  /* Definition of color scheme for fitted estimators */\n",
       "  --sklearn-color-fitted-level-0: #f0f8ff;\n",
       "  --sklearn-color-fitted-level-1: #d4ebff;\n",
       "  --sklearn-color-fitted-level-2: #b3dbfd;\n",
       "  --sklearn-color-fitted-level-3: cornflowerblue;\n",
       "\n",
       "  /* Specific color for light theme */\n",
       "  --sklearn-color-text-on-default-background: var(--sg-text-color, var(--theme-code-foreground, var(--jp-content-font-color1, black)));\n",
       "  --sklearn-color-background: var(--sg-background-color, var(--theme-background, var(--jp-layout-color0, white)));\n",
       "  --sklearn-color-border-box: var(--sg-text-color, var(--theme-code-foreground, var(--jp-content-font-color1, black)));\n",
       "  --sklearn-color-icon: #696969;\n",
       "\n",
       "  @media (prefers-color-scheme: dark) {\n",
       "    /* Redefinition of color scheme for dark theme */\n",
       "    --sklearn-color-text-on-default-background: var(--sg-text-color, var(--theme-code-foreground, var(--jp-content-font-color1, white)));\n",
       "    --sklearn-color-background: var(--sg-background-color, var(--theme-background, var(--jp-layout-color0, #111)));\n",
       "    --sklearn-color-border-box: var(--sg-text-color, var(--theme-code-foreground, var(--jp-content-font-color1, white)));\n",
       "    --sklearn-color-icon: #878787;\n",
       "  }\n",
       "}\n",
       "\n",
       "#sk-container-id-1 {\n",
       "  color: var(--sklearn-color-text);\n",
       "}\n",
       "\n",
       "#sk-container-id-1 pre {\n",
       "  padding: 0;\n",
       "}\n",
       "\n",
       "#sk-container-id-1 input.sk-hidden--visually {\n",
       "  border: 0;\n",
       "  clip: rect(1px 1px 1px 1px);\n",
       "  clip: rect(1px, 1px, 1px, 1px);\n",
       "  height: 1px;\n",
       "  margin: -1px;\n",
       "  overflow: hidden;\n",
       "  padding: 0;\n",
       "  position: absolute;\n",
       "  width: 1px;\n",
       "}\n",
       "\n",
       "#sk-container-id-1 div.sk-dashed-wrapped {\n",
       "  border: 1px dashed var(--sklearn-color-line);\n",
       "  margin: 0 0.4em 0.5em 0.4em;\n",
       "  box-sizing: border-box;\n",
       "  padding-bottom: 0.4em;\n",
       "  background-color: var(--sklearn-color-background);\n",
       "}\n",
       "\n",
       "#sk-container-id-1 div.sk-container {\n",
       "  /* jupyter's `normalize.less` sets `[hidden] { display: none; }`\n",
       "     but bootstrap.min.css set `[hidden] { display: none !important; }`\n",
       "     so we also need the `!important` here to be able to override the\n",
       "     default hidden behavior on the sphinx rendered scikit-learn.org.\n",
       "     See: https://github.com/scikit-learn/scikit-learn/issues/21755 */\n",
       "  display: inline-block !important;\n",
       "  position: relative;\n",
       "}\n",
       "\n",
       "#sk-container-id-1 div.sk-text-repr-fallback {\n",
       "  display: none;\n",
       "}\n",
       "\n",
       "div.sk-parallel-item,\n",
       "div.sk-serial,\n",
       "div.sk-item {\n",
       "  /* draw centered vertical line to link estimators */\n",
       "  background-image: linear-gradient(var(--sklearn-color-text-on-default-background), var(--sklearn-color-text-on-default-background));\n",
       "  background-size: 2px 100%;\n",
       "  background-repeat: no-repeat;\n",
       "  background-position: center center;\n",
       "}\n",
       "\n",
       "/* Parallel-specific style estimator block */\n",
       "\n",
       "#sk-container-id-1 div.sk-parallel-item::after {\n",
       "  content: \"\";\n",
       "  width: 100%;\n",
       "  border-bottom: 2px solid var(--sklearn-color-text-on-default-background);\n",
       "  flex-grow: 1;\n",
       "}\n",
       "\n",
       "#sk-container-id-1 div.sk-parallel {\n",
       "  display: flex;\n",
       "  align-items: stretch;\n",
       "  justify-content: center;\n",
       "  background-color: var(--sklearn-color-background);\n",
       "  position: relative;\n",
       "}\n",
       "\n",
       "#sk-container-id-1 div.sk-parallel-item {\n",
       "  display: flex;\n",
       "  flex-direction: column;\n",
       "}\n",
       "\n",
       "#sk-container-id-1 div.sk-parallel-item:first-child::after {\n",
       "  align-self: flex-end;\n",
       "  width: 50%;\n",
       "}\n",
       "\n",
       "#sk-container-id-1 div.sk-parallel-item:last-child::after {\n",
       "  align-self: flex-start;\n",
       "  width: 50%;\n",
       "}\n",
       "\n",
       "#sk-container-id-1 div.sk-parallel-item:only-child::after {\n",
       "  width: 0;\n",
       "}\n",
       "\n",
       "/* Serial-specific style estimator block */\n",
       "\n",
       "#sk-container-id-1 div.sk-serial {\n",
       "  display: flex;\n",
       "  flex-direction: column;\n",
       "  align-items: center;\n",
       "  background-color: var(--sklearn-color-background);\n",
       "  padding-right: 1em;\n",
       "  padding-left: 1em;\n",
       "}\n",
       "\n",
       "\n",
       "/* Toggleable style: style used for estimator/Pipeline/ColumnTransformer box that is\n",
       "clickable and can be expanded/collapsed.\n",
       "- Pipeline and ColumnTransformer use this feature and define the default style\n",
       "- Estimators will overwrite some part of the style using the `sk-estimator` class\n",
       "*/\n",
       "\n",
       "/* Pipeline and ColumnTransformer style (default) */\n",
       "\n",
       "#sk-container-id-1 div.sk-toggleable {\n",
       "  /* Default theme specific background. It is overwritten whether we have a\n",
       "  specific estimator or a Pipeline/ColumnTransformer */\n",
       "  background-color: var(--sklearn-color-background);\n",
       "}\n",
       "\n",
       "/* Toggleable label */\n",
       "#sk-container-id-1 label.sk-toggleable__label {\n",
       "  cursor: pointer;\n",
       "  display: block;\n",
       "  width: 100%;\n",
       "  margin-bottom: 0;\n",
       "  padding: 0.5em;\n",
       "  box-sizing: border-box;\n",
       "  text-align: center;\n",
       "}\n",
       "\n",
       "#sk-container-id-1 label.sk-toggleable__label-arrow:before {\n",
       "  /* Arrow on the left of the label */\n",
       "  content: \"▸\";\n",
       "  float: left;\n",
       "  margin-right: 0.25em;\n",
       "  color: var(--sklearn-color-icon);\n",
       "}\n",
       "\n",
       "#sk-container-id-1 label.sk-toggleable__label-arrow:hover:before {\n",
       "  color: var(--sklearn-color-text);\n",
       "}\n",
       "\n",
       "/* Toggleable content - dropdown */\n",
       "\n",
       "#sk-container-id-1 div.sk-toggleable__content {\n",
       "  max-height: 0;\n",
       "  max-width: 0;\n",
       "  overflow: hidden;\n",
       "  text-align: left;\n",
       "  /* unfitted */\n",
       "  background-color: var(--sklearn-color-unfitted-level-0);\n",
       "}\n",
       "\n",
       "#sk-container-id-1 div.sk-toggleable__content.fitted {\n",
       "  /* fitted */\n",
       "  background-color: var(--sklearn-color-fitted-level-0);\n",
       "}\n",
       "\n",
       "#sk-container-id-1 div.sk-toggleable__content pre {\n",
       "  margin: 0.2em;\n",
       "  border-radius: 0.25em;\n",
       "  color: var(--sklearn-color-text);\n",
       "  /* unfitted */\n",
       "  background-color: var(--sklearn-color-unfitted-level-0);\n",
       "}\n",
       "\n",
       "#sk-container-id-1 div.sk-toggleable__content.fitted pre {\n",
       "  /* unfitted */\n",
       "  background-color: var(--sklearn-color-fitted-level-0);\n",
       "}\n",
       "\n",
       "#sk-container-id-1 input.sk-toggleable__control:checked~div.sk-toggleable__content {\n",
       "  /* Expand drop-down */\n",
       "  max-height: 200px;\n",
       "  max-width: 100%;\n",
       "  overflow: auto;\n",
       "}\n",
       "\n",
       "#sk-container-id-1 input.sk-toggleable__control:checked~label.sk-toggleable__label-arrow:before {\n",
       "  content: \"▾\";\n",
       "}\n",
       "\n",
       "/* Pipeline/ColumnTransformer-specific style */\n",
       "\n",
       "#sk-container-id-1 div.sk-label input.sk-toggleable__control:checked~label.sk-toggleable__label {\n",
       "  color: var(--sklearn-color-text);\n",
       "  background-color: var(--sklearn-color-unfitted-level-2);\n",
       "}\n",
       "\n",
       "#sk-container-id-1 div.sk-label.fitted input.sk-toggleable__control:checked~label.sk-toggleable__label {\n",
       "  background-color: var(--sklearn-color-fitted-level-2);\n",
       "}\n",
       "\n",
       "/* Estimator-specific style */\n",
       "\n",
       "/* Colorize estimator box */\n",
       "#sk-container-id-1 div.sk-estimator input.sk-toggleable__control:checked~label.sk-toggleable__label {\n",
       "  /* unfitted */\n",
       "  background-color: var(--sklearn-color-unfitted-level-2);\n",
       "}\n",
       "\n",
       "#sk-container-id-1 div.sk-estimator.fitted input.sk-toggleable__control:checked~label.sk-toggleable__label {\n",
       "  /* fitted */\n",
       "  background-color: var(--sklearn-color-fitted-level-2);\n",
       "}\n",
       "\n",
       "#sk-container-id-1 div.sk-label label.sk-toggleable__label,\n",
       "#sk-container-id-1 div.sk-label label {\n",
       "  /* The background is the default theme color */\n",
       "  color: var(--sklearn-color-text-on-default-background);\n",
       "}\n",
       "\n",
       "/* On hover, darken the color of the background */\n",
       "#sk-container-id-1 div.sk-label:hover label.sk-toggleable__label {\n",
       "  color: var(--sklearn-color-text);\n",
       "  background-color: var(--sklearn-color-unfitted-level-2);\n",
       "}\n",
       "\n",
       "/* Label box, darken color on hover, fitted */\n",
       "#sk-container-id-1 div.sk-label.fitted:hover label.sk-toggleable__label.fitted {\n",
       "  color: var(--sklearn-color-text);\n",
       "  background-color: var(--sklearn-color-fitted-level-2);\n",
       "}\n",
       "\n",
       "/* Estimator label */\n",
       "\n",
       "#sk-container-id-1 div.sk-label label {\n",
       "  font-family: monospace;\n",
       "  font-weight: bold;\n",
       "  display: inline-block;\n",
       "  line-height: 1.2em;\n",
       "}\n",
       "\n",
       "#sk-container-id-1 div.sk-label-container {\n",
       "  text-align: center;\n",
       "}\n",
       "\n",
       "/* Estimator-specific */\n",
       "#sk-container-id-1 div.sk-estimator {\n",
       "  font-family: monospace;\n",
       "  border: 1px dotted var(--sklearn-color-border-box);\n",
       "  border-radius: 0.25em;\n",
       "  box-sizing: border-box;\n",
       "  margin-bottom: 0.5em;\n",
       "  /* unfitted */\n",
       "  background-color: var(--sklearn-color-unfitted-level-0);\n",
       "}\n",
       "\n",
       "#sk-container-id-1 div.sk-estimator.fitted {\n",
       "  /* fitted */\n",
       "  background-color: var(--sklearn-color-fitted-level-0);\n",
       "}\n",
       "\n",
       "/* on hover */\n",
       "#sk-container-id-1 div.sk-estimator:hover {\n",
       "  /* unfitted */\n",
       "  background-color: var(--sklearn-color-unfitted-level-2);\n",
       "}\n",
       "\n",
       "#sk-container-id-1 div.sk-estimator.fitted:hover {\n",
       "  /* fitted */\n",
       "  background-color: var(--sklearn-color-fitted-level-2);\n",
       "}\n",
       "\n",
       "/* Specification for estimator info (e.g. \"i\" and \"?\") */\n",
       "\n",
       "/* Common style for \"i\" and \"?\" */\n",
       "\n",
       ".sk-estimator-doc-link,\n",
       "a:link.sk-estimator-doc-link,\n",
       "a:visited.sk-estimator-doc-link {\n",
       "  float: right;\n",
       "  font-size: smaller;\n",
       "  line-height: 1em;\n",
       "  font-family: monospace;\n",
       "  background-color: var(--sklearn-color-background);\n",
       "  border-radius: 1em;\n",
       "  height: 1em;\n",
       "  width: 1em;\n",
       "  text-decoration: none !important;\n",
       "  margin-left: 1ex;\n",
       "  /* unfitted */\n",
       "  border: var(--sklearn-color-unfitted-level-1) 1pt solid;\n",
       "  color: var(--sklearn-color-unfitted-level-1);\n",
       "}\n",
       "\n",
       ".sk-estimator-doc-link.fitted,\n",
       "a:link.sk-estimator-doc-link.fitted,\n",
       "a:visited.sk-estimator-doc-link.fitted {\n",
       "  /* fitted */\n",
       "  border: var(--sklearn-color-fitted-level-1) 1pt solid;\n",
       "  color: var(--sklearn-color-fitted-level-1);\n",
       "}\n",
       "\n",
       "/* On hover */\n",
       "div.sk-estimator:hover .sk-estimator-doc-link:hover,\n",
       ".sk-estimator-doc-link:hover,\n",
       "div.sk-label-container:hover .sk-estimator-doc-link:hover,\n",
       ".sk-estimator-doc-link:hover {\n",
       "  /* unfitted */\n",
       "  background-color: var(--sklearn-color-unfitted-level-3);\n",
       "  color: var(--sklearn-color-background);\n",
       "  text-decoration: none;\n",
       "}\n",
       "\n",
       "div.sk-estimator.fitted:hover .sk-estimator-doc-link.fitted:hover,\n",
       ".sk-estimator-doc-link.fitted:hover,\n",
       "div.sk-label-container:hover .sk-estimator-doc-link.fitted:hover,\n",
       ".sk-estimator-doc-link.fitted:hover {\n",
       "  /* fitted */\n",
       "  background-color: var(--sklearn-color-fitted-level-3);\n",
       "  color: var(--sklearn-color-background);\n",
       "  text-decoration: none;\n",
       "}\n",
       "\n",
       "/* Span, style for the box shown on hovering the info icon */\n",
       ".sk-estimator-doc-link span {\n",
       "  display: none;\n",
       "  z-index: 9999;\n",
       "  position: relative;\n",
       "  font-weight: normal;\n",
       "  right: .2ex;\n",
       "  padding: .5ex;\n",
       "  margin: .5ex;\n",
       "  width: min-content;\n",
       "  min-width: 20ex;\n",
       "  max-width: 50ex;\n",
       "  color: var(--sklearn-color-text);\n",
       "  box-shadow: 2pt 2pt 4pt #999;\n",
       "  /* unfitted */\n",
       "  background: var(--sklearn-color-unfitted-level-0);\n",
       "  border: .5pt solid var(--sklearn-color-unfitted-level-3);\n",
       "}\n",
       "\n",
       ".sk-estimator-doc-link.fitted span {\n",
       "  /* fitted */\n",
       "  background: var(--sklearn-color-fitted-level-0);\n",
       "  border: var(--sklearn-color-fitted-level-3);\n",
       "}\n",
       "\n",
       ".sk-estimator-doc-link:hover span {\n",
       "  display: block;\n",
       "}\n",
       "\n",
       "/* \"?\"-specific style due to the `<a>` HTML tag */\n",
       "\n",
       "#sk-container-id-1 a.estimator_doc_link {\n",
       "  float: right;\n",
       "  font-size: 1rem;\n",
       "  line-height: 1em;\n",
       "  font-family: monospace;\n",
       "  background-color: var(--sklearn-color-background);\n",
       "  border-radius: 1rem;\n",
       "  height: 1rem;\n",
       "  width: 1rem;\n",
       "  text-decoration: none;\n",
       "  /* unfitted */\n",
       "  color: var(--sklearn-color-unfitted-level-1);\n",
       "  border: var(--sklearn-color-unfitted-level-1) 1pt solid;\n",
       "}\n",
       "\n",
       "#sk-container-id-1 a.estimator_doc_link.fitted {\n",
       "  /* fitted */\n",
       "  border: var(--sklearn-color-fitted-level-1) 1pt solid;\n",
       "  color: var(--sklearn-color-fitted-level-1);\n",
       "}\n",
       "\n",
       "/* On hover */\n",
       "#sk-container-id-1 a.estimator_doc_link:hover {\n",
       "  /* unfitted */\n",
       "  background-color: var(--sklearn-color-unfitted-level-3);\n",
       "  color: var(--sklearn-color-background);\n",
       "  text-decoration: none;\n",
       "}\n",
       "\n",
       "#sk-container-id-1 a.estimator_doc_link.fitted:hover {\n",
       "  /* fitted */\n",
       "  background-color: var(--sklearn-color-fitted-level-3);\n",
       "}\n",
       "</style><div id=\"sk-container-id-1\" class=\"sk-top-container\"><div class=\"sk-text-repr-fallback\"><pre>RandomizedSearchCV(cv=3,\n",
       "                   estimator=Pipeline(steps=[(&#x27;models&#x27;,\n",
       "                                              DecisionTreeClassifier(random_state=12345))]),\n",
       "                   n_jobs=-1,\n",
       "                   param_distributions=[{&#x27;models&#x27;: [LogisticRegression(penalty=&#x27;l1&#x27;,\n",
       "                                                                       random_state=12345,\n",
       "                                                                       solver=&#x27;liblinear&#x27;)],\n",
       "                                         &#x27;models__C&#x27;: range(1, 5)},\n",
       "                                        {&#x27;models&#x27;: [DecisionTreeClassifier(random_state=12345)],\n",
       "                                         &#x27;models__max_depth&#x27;: range(2, 5),\n",
       "                                         &#x27;models__max_feature...\n",
       "                                                                  min_child_weight=None,\n",
       "                                                                  missing=nan,\n",
       "                                                                  monotone_constraints=None,\n",
       "                                                                  multi_strategy=None,\n",
       "                                                                  n_estimators=None,\n",
       "                                                                  n_jobs=None,\n",
       "                                                                  num_parallel_tree=None,\n",
       "                                                                  random_state=12345, ...)],\n",
       "                                         &#x27;models__max_depth&#x27;: [3, 5],\n",
       "                                         &#x27;models__n_estimators&#x27;: [50]},\n",
       "                                        {&#x27;models&#x27;: [LGBMClassifier(random_state=12345)],\n",
       "                                         &#x27;models__max_depth&#x27;: [3, 5],\n",
       "                                         &#x27;models__n_estimators&#x27;: [50]}],\n",
       "                   random_state=12345, scoring=&#x27;roc_auc&#x27;, verbose=10)</pre><b>In a Jupyter environment, please rerun this cell to show the HTML representation or trust the notebook. <br />On GitHub, the HTML representation is unable to render, please try loading this page with nbviewer.org.</b></div><div class=\"sk-container\" hidden><div class=\"sk-item sk-dashed-wrapped\"><div class=\"sk-label-container\"><div class=\"sk-label fitted sk-toggleable\"><input class=\"sk-toggleable__control sk-hidden--visually\" id=\"sk-estimator-id-1\" type=\"checkbox\" ><label for=\"sk-estimator-id-1\" class=\"sk-toggleable__label fitted sk-toggleable__label-arrow fitted\">&nbsp;&nbsp;RandomizedSearchCV<a class=\"sk-estimator-doc-link fitted\" rel=\"noreferrer\" target=\"_blank\" href=\"https://scikit-learn.org/1.5/modules/generated/sklearn.model_selection.RandomizedSearchCV.html\">?<span>Documentation for RandomizedSearchCV</span></a><span class=\"sk-estimator-doc-link fitted\">i<span>Fitted</span></span></label><div class=\"sk-toggleable__content fitted\"><pre>RandomizedSearchCV(cv=3,\n",
       "                   estimator=Pipeline(steps=[(&#x27;models&#x27;,\n",
       "                                              DecisionTreeClassifier(random_state=12345))]),\n",
       "                   n_jobs=-1,\n",
       "                   param_distributions=[{&#x27;models&#x27;: [LogisticRegression(penalty=&#x27;l1&#x27;,\n",
       "                                                                       random_state=12345,\n",
       "                                                                       solver=&#x27;liblinear&#x27;)],\n",
       "                                         &#x27;models__C&#x27;: range(1, 5)},\n",
       "                                        {&#x27;models&#x27;: [DecisionTreeClassifier(random_state=12345)],\n",
       "                                         &#x27;models__max_depth&#x27;: range(2, 5),\n",
       "                                         &#x27;models__max_feature...\n",
       "                                                                  min_child_weight=None,\n",
       "                                                                  missing=nan,\n",
       "                                                                  monotone_constraints=None,\n",
       "                                                                  multi_strategy=None,\n",
       "                                                                  n_estimators=None,\n",
       "                                                                  n_jobs=None,\n",
       "                                                                  num_parallel_tree=None,\n",
       "                                                                  random_state=12345, ...)],\n",
       "                                         &#x27;models__max_depth&#x27;: [3, 5],\n",
       "                                         &#x27;models__n_estimators&#x27;: [50]},\n",
       "                                        {&#x27;models&#x27;: [LGBMClassifier(random_state=12345)],\n",
       "                                         &#x27;models__max_depth&#x27;: [3, 5],\n",
       "                                         &#x27;models__n_estimators&#x27;: [50]}],\n",
       "                   random_state=12345, scoring=&#x27;roc_auc&#x27;, verbose=10)</pre></div> </div></div><div class=\"sk-parallel\"><div class=\"sk-parallel-item\"><div class=\"sk-item\"><div class=\"sk-label-container\"><div class=\"sk-label fitted sk-toggleable\"><input class=\"sk-toggleable__control sk-hidden--visually\" id=\"sk-estimator-id-2\" type=\"checkbox\" ><label for=\"sk-estimator-id-2\" class=\"sk-toggleable__label fitted sk-toggleable__label-arrow fitted\">best_estimator_: Pipeline</label><div class=\"sk-toggleable__content fitted\"><pre>Pipeline(steps=[(&#x27;models&#x27;, KNeighborsClassifier(n_neighbors=4))])</pre></div> </div></div><div class=\"sk-serial\"><div class=\"sk-item\"><div class=\"sk-serial\"><div class=\"sk-item\"><div class=\"sk-estimator fitted sk-toggleable\"><input class=\"sk-toggleable__control sk-hidden--visually\" id=\"sk-estimator-id-3\" type=\"checkbox\" ><label for=\"sk-estimator-id-3\" class=\"sk-toggleable__label fitted sk-toggleable__label-arrow fitted\">&nbsp;KNeighborsClassifier<a class=\"sk-estimator-doc-link fitted\" rel=\"noreferrer\" target=\"_blank\" href=\"https://scikit-learn.org/1.5/modules/generated/sklearn.neighbors.KNeighborsClassifier.html\">?<span>Documentation for KNeighborsClassifier</span></a></label><div class=\"sk-toggleable__content fitted\"><pre>KNeighborsClassifier(n_neighbors=4)</pre></div> </div></div></div></div></div></div></div></div></div></div></div>"
      ],
      "text/plain": [
       "RandomizedSearchCV(cv=3,\n",
       "                   estimator=Pipeline(steps=[('models',\n",
       "                                              DecisionTreeClassifier(random_state=12345))]),\n",
       "                   n_jobs=-1,\n",
       "                   param_distributions=[{'models': [LogisticRegression(penalty='l1',\n",
       "                                                                       random_state=12345,\n",
       "                                                                       solver='liblinear')],\n",
       "                                         'models__C': range(1, 5)},\n",
       "                                        {'models': [DecisionTreeClassifier(random_state=12345)],\n",
       "                                         'models__max_depth': range(2, 5),\n",
       "                                         'models__max_feature...\n",
       "                                                                  min_child_weight=None,\n",
       "                                                                  missing=nan,\n",
       "                                                                  monotone_constraints=None,\n",
       "                                                                  multi_strategy=None,\n",
       "                                                                  n_estimators=None,\n",
       "                                                                  n_jobs=None,\n",
       "                                                                  num_parallel_tree=None,\n",
       "                                                                  random_state=12345, ...)],\n",
       "                                         'models__max_depth': [3, 5],\n",
       "                                         'models__n_estimators': [50]},\n",
       "                                        {'models': [LGBMClassifier(random_state=12345)],\n",
       "                                         'models__max_depth': [3, 5],\n",
       "                                         'models__n_estimators': [50]}],\n",
       "                   random_state=12345, scoring='roc_auc', verbose=10)"
      ]
     },
     "execution_count": 64,
     "metadata": {},
     "output_type": "execute_result"
    }
   ],
   "source": [
    "models = {\n",
    "    'LogisticRegression': LogisticRegression(random_state=RANDOM_STATE, solver='liblinear', penalty='l1'),\n",
    "    'DecisionTreeClassifier': DecisionTreeClassifier(random_state=RANDOM_STATE),\n",
    "    'SVC': SVC(probability=True),\n",
    "    'KNeighborsClassifier': KNeighborsClassifier(),\n",
    "    'CatBoostClassifier': CatBoostClassifier(verbose=0, random_state=RANDOM_STATE),\n",
    "    'LGBMClassifier': LGBMClassifier(random_state=RANDOM_STATE),\n",
    "    'XGBClassifier': XGBClassifier(random_state=RANDOM_STATE)\n",
    "}\n",
    "\n",
    "# Конструкция Pipeline\n",
    "pipe_final = Pipeline([\n",
    "    ('models', DecisionTreeClassifier(random_state=RANDOM_STATE))  # Начальное значение, будет заменено в GridSearchCV\n",
    "])\n",
    "\n",
    "# Определение параметров для поиска\n",
    "param_dist = [\n",
    "    {\n",
    "        'models': [LogisticRegression(random_state=RANDOM_STATE, solver='liblinear', penalty='l1')],\n",
    "        'models__C': range(1, 5),\n",
    "    },\n",
    "    {\n",
    "        'models': [DecisionTreeClassifier(random_state=RANDOM_STATE)],\n",
    "        'models__max_depth': range(2, 5),\n",
    "        'models__max_features': range(2, 5),\n",
    "    },\n",
    "    {\n",
    "        'models': [KNeighborsClassifier()],\n",
    "        'models__n_neighbors': range(2, 5),\n",
    "    },\n",
    "    {\n",
    "        'models': [SVC(probability=True)],\n",
    "        'models__kernel': ['linear', 'rbf'],\n",
    "    },\n",
    "    {\n",
    "        'models': [CatBoostClassifier(verbose=0, random_state=RANDOM_STATE)],\n",
    "        'models__iterations': [50],\n",
    "        'models__depth': [3, 5],\n",
    "    },\n",
    "    {\n",
    "        'models': [XGBClassifier(random_state=RANDOM_STATE)],\n",
    "        'models__n_estimators': [50],\n",
    "        'models__max_depth': [3, 5],\n",
    "    },\n",
    "    {\n",
    "        'models': [LGBMClassifier(random_state=RANDOM_STATE)],\n",
    "        'models__n_estimators': [50],\n",
    "        'models__max_depth': [3, 5],\n",
    "    },\n",
    "]\n",
    "\n",
    "\n",
    "search = RandomizedSearchCV(\n",
    "    pipe_final,\n",
    "    param_distributions=param_dist,\n",
    "    n_iter=10,  # позже увеличить\n",
    "    cv=3,\n",
    "    verbose=10,\n",
    "    scoring='roc_auc',\n",
    "    random_state=RANDOM_STATE,\n",
    "    n_jobs=-1\n",
    ")\n",
    "search.fit(X_train, y_train)"
   ]
  },
  {
   "cell_type": "markdown",
   "metadata": {},
   "source": [
    "**Решение выбрать `RandomizedSearchCV` обусловлено тем, что в ходе выполнения реальных задач не будет много времени для выбора лучшей модели**"
   ]
  },
  {
   "cell_type": "code",
   "execution_count": 65,
   "metadata": {},
   "outputs": [
    {
     "name": "stdout",
     "output_type": "stream",
     "text": [
      "Лучшая модель и её параметры:\n",
      "\n",
      " Pipeline(steps=[('models', KNeighborsClassifier(n_neighbors=4))])\n",
      "Метрика лучшей модели: 0.9222431973942693\n"
     ]
    }
   ],
   "source": [
    "print('Лучшая модель и её параметры:\\n\\n', search.best_estimator_)\n",
    "print ('Метрика лучшей модели:', search.best_score_)"
   ]
  },
  {
   "cell_type": "markdown",
   "metadata": {},
   "source": [
    "**Лучшая модель `KNeighborsClassifier` с 4 соседями**"
   ]
  },
  {
   "cell_type": "code",
   "execution_count": 66,
   "metadata": {},
   "outputs": [
    {
     "name": "stdout",
     "output_type": "stream",
     "text": [
      "ROC AUC на тесте: 0.9453\n"
     ]
    }
   ],
   "source": [
    "y_test_pred_proba = search.predict_proba(X_test)[:, 1]\n",
    "y_test_pred = search.predict(X_test)\n",
    "# ROC AUC на тестовой выборке\n",
    "roc_auc = roc_auc_score(y_test, y_test_pred_proba)\n",
    "\n",
    "print(f\"ROC AUC на тесте: {roc_auc:.4f}\")"
   ]
  },
  {
   "cell_type": "code",
   "execution_count": 67,
   "metadata": {},
   "outputs": [
    {
     "name": "stdout",
     "output_type": "stream",
     "text": [
      "Precision: 0.85\n",
      "Recall: 0.58\n",
      "ROC AUC: 0.95\n"
     ]
    }
   ],
   "source": [
    "precision = precision_score(y_test, y_test_pred)\n",
    "recall = recall_score(y_test, y_test_pred)\n",
    "roc_auc = roc_auc_score(y_test, y_test_pred_proba)\n",
    "\n",
    "print(f\"Precision: {precision:.2f}\")\n",
    "print(f\"Recall: {recall:.2f}\")\n",
    "print(f\"ROC AUC: {roc_auc:.2f}\")"
   ]
  },
  {
   "cell_type": "markdown",
   "metadata": {},
   "source": [
    "**В итоге на тесте было получено\\\n",
    "`Precision`: 0.85\\\n",
    "`Recall`: 0.58\\\n",
    "`ROC AUC`: 0.95**"
   ]
  },
  {
   "cell_type": "code",
   "execution_count": 68,
   "metadata": {},
   "outputs": [
    {
     "data": {
      "image/png": "[encoded data removed]",
      "text/plain": [
       "<Figure size 640x480 with 1 Axes>"
      ]
     },
     "metadata": {},
     "output_type": "display_data"
    }
   ],
   "source": [
    "fpr, tpr, thresholds = roc_curve(y_test, y_test_pred_proba)\n",
    "\n",
    "# Для построения ROC кривой можно использовать matplotlib:\n",
    "import matplotlib.pyplot as plt\n",
    "\n",
    "plt.plot(fpr, tpr, label=f\"ROC AUC = {roc_auc:.2f}\")\n",
    "plt.plot([0, 1], [0, 1], 'k--')  # Линия случайных предсказаний\n",
    "plt.xlabel('False Positive Rate')\n",
    "plt.ylabel('True Positive Rate')\n",
    "plt.title('ROC Curve')\n",
    "plt.legend(loc='best')\n",
    "plt.show()"
   ]
  },
  {
   "cell_type": "markdown",
   "metadata": {},
   "source": [
    "**ROC-AUC кривая близка к идеалу. На самом то деле, есть подозрение что я где то не прав.**"
   ]
  },
  {
   "cell_type": "code",
   "execution_count": 84,
   "metadata": {},
   "outputs": [
    {
     "data": {
      "text/plain": [
       "Index(['category_ids', 'quantity', 'price', 'day_of_week', 'year', 'avg_price',\n",
       "       'time_between_message_purchase', 'time_between_message_event'],\n",
       "      dtype='object')"
      ]
     },
     "execution_count": 84,
     "metadata": {},
     "output_type": "execute_result"
    }
   ],
   "source": [
    "X_train.columns "
   ]
  },
  {
   "cell_type": "code",
   "execution_count": 1,
   "metadata": {},
   "outputs": [
    {
     "name": "stdout",
     "output_type": "stream",
     "text": [
      "Note: you may need to restart the kernel to use updated packages.\n"
     ]
    }
   ],
   "source": [
    "pip freeze > requirements.txt"
   ]
  },
  {
   "cell_type": "markdown",
   "metadata": {},
   "source": [
    "**В работе по прогнозированию совершения покупки в ближайшие 90 дней были предобработаны датасеты, проведен исследовательский анализ данных и обучены несколько моделей. В датасете с покупками удаленеие дубликатов не проводилось так как пользователи могут совершать несколько покупок.\\\n",
    "Также были сгенерированы новые призкнаки. В итоговом обучении моделей приняли участие следующие признаки:**\n",
    "- `category_ids` - категория;\n",
    "- `quantity` - количество заказов;\n",
    "- `price` - общая сумма заказов;\n",
    "- `day_of_week` - день недели;\n",
    "- `year` - год заказа;\n",
    "- `avg_price` - средняя цена одного заказа;\n",
    "- `time_between_message_purchase` - количество дней с момента отправки сообщения до покупки;\n",
    "- `time_between_message_event` - количество дней с момента отправки сообщения до совершения действия.\n",
    "\n",
    "**Лучшей моделью оказалась `KNeighborsClassifier` с 4 соседями `roc-auc` метрика на тестовой выборке равна 0.95**\n"
   ]
  },
  {
   "cell_type": "markdown",
   "metadata": {},
   "source": []
  }
 ],
 "metadata": {
  "kernelspec": {
   "display_name": "suka",
   "language": "python",
   "name": "python3"
  },
  "language_info": {
   "codemirror_mode": {
    "name": "ipython",
    "version": 3
   },
   "file_extension": ".py",
   "mimetype": "text/x-python",
   "name": "python",
   "nbconvert_exporter": "python",
   "pygments_lexer": "ipython3",
   "version": "3.9.0"
  }
 },
 "nbformat": 4,
 "nbformat_minor": 2
}
